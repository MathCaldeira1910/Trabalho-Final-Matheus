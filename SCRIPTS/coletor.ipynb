{
 "cells": [
  {
   "cell_type": "code",
   "execution_count": 38,
   "metadata": {},
   "outputs": [
    {
     "name": "stdout",
     "output_type": "stream",
     "text": [
      "Defaulting to user installation because normal site-packages is not writeable\n",
      "Requirement already satisfied: selenium in c:\\users\\matheus\\appdata\\local\\packages\\pythonsoftwarefoundation.python.3.12_qbz5n2kfra8p0\\localcache\\local-packages\\python312\\site-packages (4.25.0)\n",
      "Requirement already satisfied: urllib3<3,>=1.26 in c:\\users\\matheus\\appdata\\local\\packages\\pythonsoftwarefoundation.python.3.12_qbz5n2kfra8p0\\localcache\\local-packages\\python312\\site-packages (from urllib3[socks]<3,>=1.26->selenium) (2.2.3)\n",
      "Requirement already satisfied: trio~=0.17 in c:\\users\\matheus\\appdata\\local\\packages\\pythonsoftwarefoundation.python.3.12_qbz5n2kfra8p0\\localcache\\local-packages\\python312\\site-packages (from selenium) (0.26.2)\n",
      "Requirement already satisfied: trio-websocket~=0.9 in c:\\users\\matheus\\appdata\\local\\packages\\pythonsoftwarefoundation.python.3.12_qbz5n2kfra8p0\\localcache\\local-packages\\python312\\site-packages (from selenium) (0.11.1)\n",
      "Requirement already satisfied: certifi>=2021.10.8 in c:\\users\\matheus\\appdata\\local\\packages\\pythonsoftwarefoundation.python.3.12_qbz5n2kfra8p0\\localcache\\local-packages\\python312\\site-packages (from selenium) (2024.8.30)\n",
      "Requirement already satisfied: typing_extensions~=4.9 in c:\\users\\matheus\\appdata\\local\\packages\\pythonsoftwarefoundation.python.3.12_qbz5n2kfra8p0\\localcache\\local-packages\\python312\\site-packages (from selenium) (4.12.2)\n",
      "Requirement already satisfied: websocket-client~=1.8 in c:\\users\\matheus\\appdata\\local\\packages\\pythonsoftwarefoundation.python.3.12_qbz5n2kfra8p0\\localcache\\local-packages\\python312\\site-packages (from selenium) (1.8.0)\n",
      "Requirement already satisfied: attrs>=23.2.0 in c:\\users\\matheus\\appdata\\local\\packages\\pythonsoftwarefoundation.python.3.12_qbz5n2kfra8p0\\localcache\\local-packages\\python312\\site-packages (from trio~=0.17->selenium) (24.2.0)\n",
      "Requirement already satisfied: sortedcontainers in c:\\users\\matheus\\appdata\\local\\packages\\pythonsoftwarefoundation.python.3.12_qbz5n2kfra8p0\\localcache\\local-packages\\python312\\site-packages (from trio~=0.17->selenium) (2.4.0)\n",
      "Requirement already satisfied: idna in c:\\users\\matheus\\appdata\\local\\packages\\pythonsoftwarefoundation.python.3.12_qbz5n2kfra8p0\\localcache\\local-packages\\python312\\site-packages (from trio~=0.17->selenium) (3.10)\n",
      "Requirement already satisfied: outcome in c:\\users\\matheus\\appdata\\local\\packages\\pythonsoftwarefoundation.python.3.12_qbz5n2kfra8p0\\localcache\\local-packages\\python312\\site-packages (from trio~=0.17->selenium) (1.3.0.post0)\n",
      "Requirement already satisfied: sniffio>=1.3.0 in c:\\users\\matheus\\appdata\\local\\packages\\pythonsoftwarefoundation.python.3.12_qbz5n2kfra8p0\\localcache\\local-packages\\python312\\site-packages (from trio~=0.17->selenium) (1.3.1)\n",
      "Requirement already satisfied: cffi>=1.14 in c:\\users\\matheus\\appdata\\local\\packages\\pythonsoftwarefoundation.python.3.12_qbz5n2kfra8p0\\localcache\\local-packages\\python312\\site-packages (from trio~=0.17->selenium) (1.17.1)\n",
      "Requirement already satisfied: wsproto>=0.14 in c:\\users\\matheus\\appdata\\local\\packages\\pythonsoftwarefoundation.python.3.12_qbz5n2kfra8p0\\localcache\\local-packages\\python312\\site-packages (from trio-websocket~=0.9->selenium) (1.2.0)\n",
      "Requirement already satisfied: pysocks!=1.5.7,<2.0,>=1.5.6 in c:\\users\\matheus\\appdata\\local\\packages\\pythonsoftwarefoundation.python.3.12_qbz5n2kfra8p0\\localcache\\local-packages\\python312\\site-packages (from urllib3[socks]<3,>=1.26->selenium) (1.7.1)\n",
      "Requirement already satisfied: pycparser in c:\\users\\matheus\\appdata\\local\\packages\\pythonsoftwarefoundation.python.3.12_qbz5n2kfra8p0\\localcache\\local-packages\\python312\\site-packages (from cffi>=1.14->trio~=0.17->selenium) (2.22)\n",
      "Requirement already satisfied: h11<1,>=0.9.0 in c:\\users\\matheus\\appdata\\local\\packages\\pythonsoftwarefoundation.python.3.12_qbz5n2kfra8p0\\localcache\\local-packages\\python312\\site-packages (from wsproto>=0.14->trio-websocket~=0.9->selenium) (0.14.0)\n",
      "Defaulting to user installation because normal site-packages is not writeable\n",
      "Requirement already satisfied: plotly in c:\\users\\matheus\\appdata\\local\\packages\\pythonsoftwarefoundation.python.3.12_qbz5n2kfra8p0\\localcache\\local-packages\\python312\\site-packages (5.24.1)\n",
      "Requirement already satisfied: tenacity>=6.2.0 in c:\\users\\matheus\\appdata\\local\\packages\\pythonsoftwarefoundation.python.3.12_qbz5n2kfra8p0\\localcache\\local-packages\\python312\\site-packages (from plotly) (9.0.0)\n",
      "Requirement already satisfied: packaging in c:\\users\\matheus\\appdata\\local\\packages\\pythonsoftwarefoundation.python.3.12_qbz5n2kfra8p0\\localcache\\local-packages\\python312\\site-packages (from plotly) (24.1)\n"
     ]
    }
   ],
   "source": [
    "!pip install selenium\n",
    "import selenium\n",
    "import pandas as pd\n",
    "from selenium import webdriver\n",
    "from selenium.webdriver.common.by import By\n",
    "from selenium.webdriver.support.ui import WebDriverWait\n",
    "from selenium.webdriver.support import expected_conditions as EC\n",
    "!pip install plotly\n",
    "import os\n",
    "from flask import Flask, jsonify\n",
    "import streamlit as st\n",
    "import requests\n",
    "import matplotlib.pyplot as plt\n",
    "import seaborn as sns\n",
    "import numpy as np\n",
    "import plotly.express as px"
   ]
  },
  {
   "cell_type": "code",
   "execution_count": 39,
   "metadata": {},
   "outputs": [],
   "source": [
    "navegador = webdriver.Chrome()"
   ]
  },
  {
   "cell_type": "code",
   "execution_count": 40,
   "metadata": {},
   "outputs": [],
   "source": [
    "navegador.get('https://www.trimais.com.br/colecao-organicos/?map=cl')"
   ]
  },
  {
   "cell_type": "code",
   "execution_count": 41,
   "metadata": {},
   "outputs": [],
   "source": [
    "navegador.maximize_window()"
   ]
  },
  {
   "cell_type": "code",
   "execution_count": 42,
   "metadata": {},
   "outputs": [],
   "source": [
    "nome = '//*[@id=\"main-wrapper\"]/div/div[2]/div/div[2]/div/ul/div[1]/div/div/div/h2/a'"
   ]
  },
  {
   "cell_type": "code",
   "execution_count": 43,
   "metadata": {},
   "outputs": [
    {
     "data": {
      "text/plain": [
       "'Açucar Native Orgânico Dourado 1kg'"
      ]
     },
     "execution_count": 43,
     "metadata": {},
     "output_type": "execute_result"
    }
   ],
   "source": [
    "navegador.find_element(By.XPATH, nome).text"
   ]
  },
  {
   "cell_type": "code",
   "execution_count": 44,
   "metadata": {},
   "outputs": [
    {
     "data": {
      "text/plain": [
       "'R$ 8,79'"
      ]
     },
     "execution_count": 44,
     "metadata": {},
     "output_type": "execute_result"
    }
   ],
   "source": [
    "preco = '//*[@id=\"main-wrapper\"]/div/div[2]/div/div[2]/div/ul/div[1]/div/div/div/div/div/div/p/strong'\n",
    "navegador.find_element(By.XPATH, preco).text"
   ]
  },
  {
   "cell_type": "code",
   "execution_count": 45,
   "metadata": {},
   "outputs": [
    {
     "data": {
      "text/plain": [
       "'Açucar Itaja 1KG Organico Demerara'"
      ]
     },
     "execution_count": 45,
     "metadata": {},
     "output_type": "execute_result"
    }
   ],
   "source": [
    "nome2 = '//*[@id=\"main-wrapper\"]/div/div[2]/div/div[2]/div/ul/div[2]/div/div/div/h2/a'\n",
    "navegador.find_element(By.XPATH, nome2).text"
   ]
  },
  {
   "cell_type": "code",
   "execution_count": 46,
   "metadata": {},
   "outputs": [
    {
     "data": {
      "text/plain": [
       "'R$ 6,48'"
      ]
     },
     "execution_count": 46,
     "metadata": {},
     "output_type": "execute_result"
    }
   ],
   "source": [
    "preco2 = '//*[@id=\"main-wrapper\"]/div/div[2]/div/div[2]/div/ul/div[2]/div/div/div/div/div/div/p/strong'\n",
    "navegador.find_element(By.XPATH, preco2).text"
   ]
  },
  {
   "cell_type": "code",
   "execution_count": 47,
   "metadata": {},
   "outputs": [
    {
     "name": "stdout",
     "output_type": "stream",
     "text": [
      "Açucar Native Orgânico Dourado 1kg\n",
      "Açucar Itaja 1KG Organico Demerara\n",
      "Açúcar Native Orgânico Claro 1kg\n",
      "Açucar Cristal Itaja 1kg Organico\n",
      "Bebida De Aveia Nude Organico S/ Gluten 1L\n",
      "Bebida De Aveia Nude Organico Baunilha 1L\n",
      "Bebida De Aveia Nude Organico Integral 1L\n",
      "Bebida De Aveia Nude Organico Cacau 1L\n",
      "Achocolatado Orgânico Em Pó Instantâneo Native 400G\n",
      "Chá Mate Poder da Terra Organico Limão 1L\n",
      "Chá Mate Poder da Terra Organico Pessego 1L\n",
      "Cereal Corn Flakes Native Organico 300g\n",
      "Açucar Tia Sonia 400g Organico Demerara\n",
      "Chá Mate Poder Da Terra Organico Tradicional 1L\n",
      "Açucar Native 250g Organico Sache\n",
      "Sorbet Orgânico Açaí Eco Fresh Pote 1,02kg\n",
      "Vinho Chileno Rosé Meio Seco Orgânico Reserva Adobe Valle del Rapel Garrafa 750ml\n",
      "Hortelã Orgânico Caisp\n",
      "Espinafre Orgânico Caisp 180g\n"
     ]
    }
   ],
   "source": [
    "lista_produtos = [] # lista vazia\n",
    "for produto in range(1,22):\n",
    "    try:\n",
    "        print(navegador.find_element(By.XPATH, f'//*[@id=\"main-wrapper\"]/div/div[2]/div/div[2]/div/ul/div[{produto}]/div/div/div/h2/a').text)\n",
    "        dado_produto = navegador.find_element(By.XPATH, f'//*[@id=\"main-wrapper\"]/div/div[2]/div/div[2]/div/ul/div[{produto}]/div/div/div/h2/a').text\n",
    "        lista_produtos.append(dado_produto)\n",
    "    except:\n",
    "        pass"
   ]
  },
  {
   "cell_type": "code",
   "execution_count": 48,
   "metadata": {},
   "outputs": [
    {
     "name": "stdout",
     "output_type": "stream",
     "text": [
      "R$ 8,79\n",
      "R$ 6,48\n",
      "R$ 6,99\n",
      "R$ 5,99\n",
      "R$ 19,90\n",
      "R$ 19,90\n",
      "R$ 19,90\n",
      "R$ 19,90\n",
      "R$ 19,80\n",
      "R$ 9,90\n",
      "R$ 9,90\n",
      "R$ 16,98\n",
      "R$ 11,98\n",
      "R$ 9,90\n",
      "R$ 9,99\n",
      "R$ 42,98\n",
      "R$ 76,80\n"
     ]
    }
   ],
   "source": [
    "lista_precos = [] # lista vazia\n",
    "for preco in range(1,22):\n",
    "    try:\n",
    "        print(navegador.find_element(By.XPATH, f'//*[@id=\"main-wrapper\"]/div/div[2]/div/div[2]/div/ul/div[{preco}]/div/div/div/div/div/div/p/strong').text)\n",
    "        dado_preco = navegador.find_element(By.XPATH, f'//*[@id=\"main-wrapper\"]/div/div[2]/div/div[2]/div/ul/div[{preco}]/div/div/div/div/div/div/p/strong').text\n",
    "        lista_precos.append(dado_preco)\n",
    "    except:\n",
    "        pass"
   ]
  },
  {
   "cell_type": "code",
   "execution_count": 49,
   "metadata": {},
   "outputs": [
    {
     "data": {
      "text/plain": [
       "['R$ 8,79',\n",
       " 'R$ 6,48',\n",
       " 'R$ 6,99',\n",
       " 'R$ 5,99',\n",
       " 'R$ 19,90',\n",
       " 'R$ 19,90',\n",
       " 'R$ 19,90',\n",
       " 'R$ 19,90',\n",
       " 'R$ 19,80',\n",
       " 'R$ 9,90',\n",
       " 'R$ 9,90',\n",
       " 'R$ 16,98',\n",
       " 'R$ 11,98',\n",
       " 'R$ 9,90',\n",
       " 'R$ 9,99',\n",
       " 'R$ 42,98',\n",
       " 'R$ 76,80']"
      ]
     },
     "execution_count": 49,
     "metadata": {},
     "output_type": "execute_result"
    }
   ],
   "source": [
    "lista_precos"
   ]
  },
  {
   "cell_type": "code",
   "execution_count": 50,
   "metadata": {},
   "outputs": [
    {
     "data": {
      "text/plain": [
       "['Açucar Native Orgânico Dourado 1kg',\n",
       " 'Açucar Itaja 1KG Organico Demerara',\n",
       " 'Açúcar Native Orgânico Claro 1kg',\n",
       " 'Açucar Cristal Itaja 1kg Organico',\n",
       " 'Bebida De Aveia Nude Organico S/ Gluten 1L',\n",
       " 'Bebida De Aveia Nude Organico Baunilha 1L',\n",
       " 'Bebida De Aveia Nude Organico Integral 1L',\n",
       " 'Bebida De Aveia Nude Organico Cacau 1L',\n",
       " 'Achocolatado Orgânico Em Pó Instantâneo Native 400G',\n",
       " 'Chá Mate Poder da Terra Organico Limão 1L',\n",
       " 'Chá Mate Poder da Terra Organico Pessego 1L',\n",
       " 'Cereal Corn Flakes Native Organico 300g',\n",
       " 'Açucar Tia Sonia 400g Organico Demerara',\n",
       " 'Chá Mate Poder Da Terra Organico Tradicional 1L',\n",
       " 'Açucar Native 250g Organico Sache',\n",
       " 'Sorbet Orgânico Açaí Eco Fresh Pote 1,02kg',\n",
       " 'Vinho Chileno Rosé Meio Seco Orgânico Reserva Adobe Valle del Rapel Garrafa 750ml',\n",
       " 'Hortelã Orgânico Caisp',\n",
       " 'Espinafre Orgânico Caisp 180g']"
      ]
     },
     "execution_count": 50,
     "metadata": {},
     "output_type": "execute_result"
    }
   ],
   "source": [
    "lista_produtos"
   ]
  },
  {
   "cell_type": "code",
   "execution_count": 51,
   "metadata": {},
   "outputs": [
    {
     "data": {
      "text/html": [
       "<div>\n",
       "<style scoped>\n",
       "    .dataframe tbody tr th:only-of-type {\n",
       "        vertical-align: middle;\n",
       "    }\n",
       "\n",
       "    .dataframe tbody tr th {\n",
       "        vertical-align: top;\n",
       "    }\n",
       "\n",
       "    .dataframe thead th {\n",
       "        text-align: right;\n",
       "    }\n",
       "</style>\n",
       "<table border=\"1\" class=\"dataframe\">\n",
       "  <thead>\n",
       "    <tr style=\"text-align: right;\">\n",
       "      <th></th>\n",
       "      <th>produto</th>\n",
       "    </tr>\n",
       "  </thead>\n",
       "  <tbody>\n",
       "    <tr>\n",
       "      <th>0</th>\n",
       "      <td>Açucar Native Orgânico Dourado 1kg</td>\n",
       "    </tr>\n",
       "    <tr>\n",
       "      <th>1</th>\n",
       "      <td>Açucar Itaja 1KG Organico Demerara</td>\n",
       "    </tr>\n",
       "    <tr>\n",
       "      <th>2</th>\n",
       "      <td>Açúcar Native Orgânico Claro 1kg</td>\n",
       "    </tr>\n",
       "    <tr>\n",
       "      <th>3</th>\n",
       "      <td>Açucar Cristal Itaja 1kg Organico</td>\n",
       "    </tr>\n",
       "    <tr>\n",
       "      <th>4</th>\n",
       "      <td>Bebida De Aveia Nude Organico S/ Gluten 1L</td>\n",
       "    </tr>\n",
       "    <tr>\n",
       "      <th>5</th>\n",
       "      <td>Bebida De Aveia Nude Organico Baunilha 1L</td>\n",
       "    </tr>\n",
       "    <tr>\n",
       "      <th>6</th>\n",
       "      <td>Bebida De Aveia Nude Organico Integral 1L</td>\n",
       "    </tr>\n",
       "    <tr>\n",
       "      <th>7</th>\n",
       "      <td>Bebida De Aveia Nude Organico Cacau 1L</td>\n",
       "    </tr>\n",
       "    <tr>\n",
       "      <th>8</th>\n",
       "      <td>Achocolatado Orgânico Em Pó Instantâneo Native...</td>\n",
       "    </tr>\n",
       "    <tr>\n",
       "      <th>9</th>\n",
       "      <td>Chá Mate Poder da Terra Organico Limão 1L</td>\n",
       "    </tr>\n",
       "    <tr>\n",
       "      <th>10</th>\n",
       "      <td>Chá Mate Poder da Terra Organico Pessego 1L</td>\n",
       "    </tr>\n",
       "    <tr>\n",
       "      <th>11</th>\n",
       "      <td>Cereal Corn Flakes Native Organico 300g</td>\n",
       "    </tr>\n",
       "    <tr>\n",
       "      <th>12</th>\n",
       "      <td>Açucar Tia Sonia 400g Organico Demerara</td>\n",
       "    </tr>\n",
       "    <tr>\n",
       "      <th>13</th>\n",
       "      <td>Chá Mate Poder Da Terra Organico Tradicional 1L</td>\n",
       "    </tr>\n",
       "    <tr>\n",
       "      <th>14</th>\n",
       "      <td>Açucar Native 250g Organico Sache</td>\n",
       "    </tr>\n",
       "    <tr>\n",
       "      <th>15</th>\n",
       "      <td>Sorbet Orgânico Açaí Eco Fresh Pote 1,02kg</td>\n",
       "    </tr>\n",
       "    <tr>\n",
       "      <th>16</th>\n",
       "      <td>Vinho Chileno Rosé Meio Seco Orgânico Reserva ...</td>\n",
       "    </tr>\n",
       "    <tr>\n",
       "      <th>17</th>\n",
       "      <td>Hortelã Orgânico Caisp</td>\n",
       "    </tr>\n",
       "    <tr>\n",
       "      <th>18</th>\n",
       "      <td>Espinafre Orgânico Caisp 180g</td>\n",
       "    </tr>\n",
       "  </tbody>\n",
       "</table>\n",
       "</div>"
      ],
      "text/plain": [
       "                                              produto\n",
       "0                  Açucar Native Orgânico Dourado 1kg\n",
       "1                  Açucar Itaja 1KG Organico Demerara\n",
       "2                    Açúcar Native Orgânico Claro 1kg\n",
       "3                   Açucar Cristal Itaja 1kg Organico\n",
       "4          Bebida De Aveia Nude Organico S/ Gluten 1L\n",
       "5           Bebida De Aveia Nude Organico Baunilha 1L\n",
       "6           Bebida De Aveia Nude Organico Integral 1L\n",
       "7              Bebida De Aveia Nude Organico Cacau 1L\n",
       "8   Achocolatado Orgânico Em Pó Instantâneo Native...\n",
       "9           Chá Mate Poder da Terra Organico Limão 1L\n",
       "10        Chá Mate Poder da Terra Organico Pessego 1L\n",
       "11            Cereal Corn Flakes Native Organico 300g\n",
       "12            Açucar Tia Sonia 400g Organico Demerara\n",
       "13    Chá Mate Poder Da Terra Organico Tradicional 1L\n",
       "14                  Açucar Native 250g Organico Sache\n",
       "15         Sorbet Orgânico Açaí Eco Fresh Pote 1,02kg\n",
       "16  Vinho Chileno Rosé Meio Seco Orgânico Reserva ...\n",
       "17                             Hortelã Orgânico Caisp\n",
       "18                      Espinafre Orgânico Caisp 180g"
      ]
     },
     "execution_count": 51,
     "metadata": {},
     "output_type": "execute_result"
    }
   ],
   "source": [
    "import pandas as pd\n",
    "tabela1 = pd.DataFrame(lista_produtos, columns=['produto'])\n",
    "tabela1"
   ]
  },
  {
   "cell_type": "code",
   "execution_count": 52,
   "metadata": {},
   "outputs": [
    {
     "data": {
      "text/html": [
       "<div>\n",
       "<style scoped>\n",
       "    .dataframe tbody tr th:only-of-type {\n",
       "        vertical-align: middle;\n",
       "    }\n",
       "\n",
       "    .dataframe tbody tr th {\n",
       "        vertical-align: top;\n",
       "    }\n",
       "\n",
       "    .dataframe thead th {\n",
       "        text-align: right;\n",
       "    }\n",
       "</style>\n",
       "<table border=\"1\" class=\"dataframe\">\n",
       "  <thead>\n",
       "    <tr style=\"text-align: right;\">\n",
       "      <th></th>\n",
       "      <th>precos</th>\n",
       "    </tr>\n",
       "  </thead>\n",
       "  <tbody>\n",
       "    <tr>\n",
       "      <th>0</th>\n",
       "      <td>R$ 8,79</td>\n",
       "    </tr>\n",
       "    <tr>\n",
       "      <th>1</th>\n",
       "      <td>R$ 6,48</td>\n",
       "    </tr>\n",
       "    <tr>\n",
       "      <th>2</th>\n",
       "      <td>R$ 6,99</td>\n",
       "    </tr>\n",
       "    <tr>\n",
       "      <th>3</th>\n",
       "      <td>R$ 5,99</td>\n",
       "    </tr>\n",
       "    <tr>\n",
       "      <th>4</th>\n",
       "      <td>R$ 19,90</td>\n",
       "    </tr>\n",
       "    <tr>\n",
       "      <th>5</th>\n",
       "      <td>R$ 19,90</td>\n",
       "    </tr>\n",
       "    <tr>\n",
       "      <th>6</th>\n",
       "      <td>R$ 19,90</td>\n",
       "    </tr>\n",
       "    <tr>\n",
       "      <th>7</th>\n",
       "      <td>R$ 19,90</td>\n",
       "    </tr>\n",
       "    <tr>\n",
       "      <th>8</th>\n",
       "      <td>R$ 19,80</td>\n",
       "    </tr>\n",
       "    <tr>\n",
       "      <th>9</th>\n",
       "      <td>R$ 9,90</td>\n",
       "    </tr>\n",
       "    <tr>\n",
       "      <th>10</th>\n",
       "      <td>R$ 9,90</td>\n",
       "    </tr>\n",
       "    <tr>\n",
       "      <th>11</th>\n",
       "      <td>R$ 16,98</td>\n",
       "    </tr>\n",
       "    <tr>\n",
       "      <th>12</th>\n",
       "      <td>R$ 11,98</td>\n",
       "    </tr>\n",
       "    <tr>\n",
       "      <th>13</th>\n",
       "      <td>R$ 9,90</td>\n",
       "    </tr>\n",
       "    <tr>\n",
       "      <th>14</th>\n",
       "      <td>R$ 9,99</td>\n",
       "    </tr>\n",
       "    <tr>\n",
       "      <th>15</th>\n",
       "      <td>R$ 42,98</td>\n",
       "    </tr>\n",
       "    <tr>\n",
       "      <th>16</th>\n",
       "      <td>R$ 76,80</td>\n",
       "    </tr>\n",
       "  </tbody>\n",
       "</table>\n",
       "</div>"
      ],
      "text/plain": [
       "      precos\n",
       "0    R$ 8,79\n",
       "1    R$ 6,48\n",
       "2    R$ 6,99\n",
       "3    R$ 5,99\n",
       "4   R$ 19,90\n",
       "5   R$ 19,90\n",
       "6   R$ 19,90\n",
       "7   R$ 19,90\n",
       "8   R$ 19,80\n",
       "9    R$ 9,90\n",
       "10   R$ 9,90\n",
       "11  R$ 16,98\n",
       "12  R$ 11,98\n",
       "13   R$ 9,90\n",
       "14   R$ 9,99\n",
       "15  R$ 42,98\n",
       "16  R$ 76,80"
      ]
     },
     "execution_count": 52,
     "metadata": {},
     "output_type": "execute_result"
    }
   ],
   "source": [
    "tabela2 = pd.DataFrame(lista_precos, columns=['precos'])\n",
    "tabela2"
   ]
  },
  {
   "cell_type": "code",
   "execution_count": 53,
   "metadata": {},
   "outputs": [
    {
     "data": {
      "text/html": [
       "<div>\n",
       "<style scoped>\n",
       "    .dataframe tbody tr th:only-of-type {\n",
       "        vertical-align: middle;\n",
       "    }\n",
       "\n",
       "    .dataframe tbody tr th {\n",
       "        vertical-align: top;\n",
       "    }\n",
       "\n",
       "    .dataframe thead th {\n",
       "        text-align: right;\n",
       "    }\n",
       "</style>\n",
       "<table border=\"1\" class=\"dataframe\">\n",
       "  <thead>\n",
       "    <tr style=\"text-align: right;\">\n",
       "      <th></th>\n",
       "      <th>produto</th>\n",
       "      <th>precos</th>\n",
       "    </tr>\n",
       "  </thead>\n",
       "  <tbody>\n",
       "    <tr>\n",
       "      <th>0</th>\n",
       "      <td>Açucar Native Orgânico Dourado 1kg</td>\n",
       "      <td>R$ 8,79</td>\n",
       "    </tr>\n",
       "    <tr>\n",
       "      <th>1</th>\n",
       "      <td>Açucar Itaja 1KG Organico Demerara</td>\n",
       "      <td>R$ 6,48</td>\n",
       "    </tr>\n",
       "    <tr>\n",
       "      <th>2</th>\n",
       "      <td>Açúcar Native Orgânico Claro 1kg</td>\n",
       "      <td>R$ 6,99</td>\n",
       "    </tr>\n",
       "    <tr>\n",
       "      <th>3</th>\n",
       "      <td>Açucar Cristal Itaja 1kg Organico</td>\n",
       "      <td>R$ 5,99</td>\n",
       "    </tr>\n",
       "    <tr>\n",
       "      <th>4</th>\n",
       "      <td>Bebida De Aveia Nude Organico S/ Gluten 1L</td>\n",
       "      <td>R$ 19,90</td>\n",
       "    </tr>\n",
       "    <tr>\n",
       "      <th>5</th>\n",
       "      <td>Bebida De Aveia Nude Organico Baunilha 1L</td>\n",
       "      <td>R$ 19,90</td>\n",
       "    </tr>\n",
       "    <tr>\n",
       "      <th>6</th>\n",
       "      <td>Bebida De Aveia Nude Organico Integral 1L</td>\n",
       "      <td>R$ 19,90</td>\n",
       "    </tr>\n",
       "    <tr>\n",
       "      <th>7</th>\n",
       "      <td>Bebida De Aveia Nude Organico Cacau 1L</td>\n",
       "      <td>R$ 19,90</td>\n",
       "    </tr>\n",
       "    <tr>\n",
       "      <th>8</th>\n",
       "      <td>Achocolatado Orgânico Em Pó Instantâneo Native...</td>\n",
       "      <td>R$ 19,80</td>\n",
       "    </tr>\n",
       "    <tr>\n",
       "      <th>9</th>\n",
       "      <td>Chá Mate Poder da Terra Organico Limão 1L</td>\n",
       "      <td>R$ 9,90</td>\n",
       "    </tr>\n",
       "    <tr>\n",
       "      <th>10</th>\n",
       "      <td>Chá Mate Poder da Terra Organico Pessego 1L</td>\n",
       "      <td>R$ 9,90</td>\n",
       "    </tr>\n",
       "    <tr>\n",
       "      <th>11</th>\n",
       "      <td>Cereal Corn Flakes Native Organico 300g</td>\n",
       "      <td>R$ 16,98</td>\n",
       "    </tr>\n",
       "    <tr>\n",
       "      <th>12</th>\n",
       "      <td>Açucar Tia Sonia 400g Organico Demerara</td>\n",
       "      <td>R$ 11,98</td>\n",
       "    </tr>\n",
       "    <tr>\n",
       "      <th>13</th>\n",
       "      <td>Chá Mate Poder Da Terra Organico Tradicional 1L</td>\n",
       "      <td>R$ 9,90</td>\n",
       "    </tr>\n",
       "    <tr>\n",
       "      <th>14</th>\n",
       "      <td>Açucar Native 250g Organico Sache</td>\n",
       "      <td>R$ 9,99</td>\n",
       "    </tr>\n",
       "    <tr>\n",
       "      <th>15</th>\n",
       "      <td>Sorbet Orgânico Açaí Eco Fresh Pote 1,02kg</td>\n",
       "      <td>R$ 42,98</td>\n",
       "    </tr>\n",
       "    <tr>\n",
       "      <th>16</th>\n",
       "      <td>Vinho Chileno Rosé Meio Seco Orgânico Reserva ...</td>\n",
       "      <td>R$ 76,80</td>\n",
       "    </tr>\n",
       "    <tr>\n",
       "      <th>17</th>\n",
       "      <td>Hortelã Orgânico Caisp</td>\n",
       "      <td>NaN</td>\n",
       "    </tr>\n",
       "    <tr>\n",
       "      <th>18</th>\n",
       "      <td>Espinafre Orgânico Caisp 180g</td>\n",
       "      <td>NaN</td>\n",
       "    </tr>\n",
       "  </tbody>\n",
       "</table>\n",
       "</div>"
      ],
      "text/plain": [
       "                                              produto    precos\n",
       "0                  Açucar Native Orgânico Dourado 1kg   R$ 8,79\n",
       "1                  Açucar Itaja 1KG Organico Demerara   R$ 6,48\n",
       "2                    Açúcar Native Orgânico Claro 1kg   R$ 6,99\n",
       "3                   Açucar Cristal Itaja 1kg Organico   R$ 5,99\n",
       "4          Bebida De Aveia Nude Organico S/ Gluten 1L  R$ 19,90\n",
       "5           Bebida De Aveia Nude Organico Baunilha 1L  R$ 19,90\n",
       "6           Bebida De Aveia Nude Organico Integral 1L  R$ 19,90\n",
       "7              Bebida De Aveia Nude Organico Cacau 1L  R$ 19,90\n",
       "8   Achocolatado Orgânico Em Pó Instantâneo Native...  R$ 19,80\n",
       "9           Chá Mate Poder da Terra Organico Limão 1L   R$ 9,90\n",
       "10        Chá Mate Poder da Terra Organico Pessego 1L   R$ 9,90\n",
       "11            Cereal Corn Flakes Native Organico 300g  R$ 16,98\n",
       "12            Açucar Tia Sonia 400g Organico Demerara  R$ 11,98\n",
       "13    Chá Mate Poder Da Terra Organico Tradicional 1L   R$ 9,90\n",
       "14                  Açucar Native 250g Organico Sache   R$ 9,99\n",
       "15         Sorbet Orgânico Açaí Eco Fresh Pote 1,02kg  R$ 42,98\n",
       "16  Vinho Chileno Rosé Meio Seco Orgânico Reserva ...  R$ 76,80\n",
       "17                             Hortelã Orgânico Caisp       NaN\n",
       "18                      Espinafre Orgânico Caisp 180g       NaN"
      ]
     },
     "execution_count": 53,
     "metadata": {},
     "output_type": "execute_result"
    }
   ],
   "source": [
    "df = pd.concat([tabela1, tabela2], axis=1)\n",
    "df"
   ]
  },
  {
   "cell_type": "code",
   "execution_count": 54,
   "metadata": {},
   "outputs": [
    {
     "data": {
      "text/html": [
       "<div>\n",
       "<style scoped>\n",
       "    .dataframe tbody tr th:only-of-type {\n",
       "        vertical-align: middle;\n",
       "    }\n",
       "\n",
       "    .dataframe tbody tr th {\n",
       "        vertical-align: top;\n",
       "    }\n",
       "\n",
       "    .dataframe thead th {\n",
       "        text-align: right;\n",
       "    }\n",
       "</style>\n",
       "<table border=\"1\" class=\"dataframe\">\n",
       "  <thead>\n",
       "    <tr style=\"text-align: right;\">\n",
       "      <th></th>\n",
       "      <th>produto</th>\n",
       "      <th>precos</th>\n",
       "    </tr>\n",
       "  </thead>\n",
       "  <tbody>\n",
       "    <tr>\n",
       "      <th>0</th>\n",
       "      <td>Açucar Native Orgânico Dourado 1kg</td>\n",
       "      <td>R$ 8,79</td>\n",
       "    </tr>\n",
       "    <tr>\n",
       "      <th>1</th>\n",
       "      <td>Açucar Itaja 1KG Organico Demerara</td>\n",
       "      <td>R$ 6,48</td>\n",
       "    </tr>\n",
       "    <tr>\n",
       "      <th>2</th>\n",
       "      <td>Açúcar Native Orgânico Claro 1kg</td>\n",
       "      <td>R$ 6,99</td>\n",
       "    </tr>\n",
       "    <tr>\n",
       "      <th>3</th>\n",
       "      <td>Açucar Cristal Itaja 1kg Organico</td>\n",
       "      <td>R$ 5,99</td>\n",
       "    </tr>\n",
       "    <tr>\n",
       "      <th>4</th>\n",
       "      <td>Bebida De Aveia Nude Organico S/ Gluten 1L</td>\n",
       "      <td>R$ 19,90</td>\n",
       "    </tr>\n",
       "    <tr>\n",
       "      <th>5</th>\n",
       "      <td>Bebida De Aveia Nude Organico Baunilha 1L</td>\n",
       "      <td>R$ 19,90</td>\n",
       "    </tr>\n",
       "    <tr>\n",
       "      <th>6</th>\n",
       "      <td>Bebida De Aveia Nude Organico Integral 1L</td>\n",
       "      <td>R$ 19,90</td>\n",
       "    </tr>\n",
       "    <tr>\n",
       "      <th>7</th>\n",
       "      <td>Bebida De Aveia Nude Organico Cacau 1L</td>\n",
       "      <td>R$ 19,90</td>\n",
       "    </tr>\n",
       "    <tr>\n",
       "      <th>8</th>\n",
       "      <td>Achocolatado Orgânico Em Pó Instantâneo Native...</td>\n",
       "      <td>R$ 19,80</td>\n",
       "    </tr>\n",
       "    <tr>\n",
       "      <th>9</th>\n",
       "      <td>Chá Mate Poder da Terra Organico Limão 1L</td>\n",
       "      <td>R$ 9,90</td>\n",
       "    </tr>\n",
       "    <tr>\n",
       "      <th>10</th>\n",
       "      <td>Chá Mate Poder da Terra Organico Pessego 1L</td>\n",
       "      <td>R$ 9,90</td>\n",
       "    </tr>\n",
       "    <tr>\n",
       "      <th>11</th>\n",
       "      <td>Cereal Corn Flakes Native Organico 300g</td>\n",
       "      <td>R$ 16,98</td>\n",
       "    </tr>\n",
       "    <tr>\n",
       "      <th>12</th>\n",
       "      <td>Açucar Tia Sonia 400g Organico Demerara</td>\n",
       "      <td>R$ 11,98</td>\n",
       "    </tr>\n",
       "    <tr>\n",
       "      <th>13</th>\n",
       "      <td>Chá Mate Poder Da Terra Organico Tradicional 1L</td>\n",
       "      <td>R$ 9,90</td>\n",
       "    </tr>\n",
       "    <tr>\n",
       "      <th>14</th>\n",
       "      <td>Açucar Native 250g Organico Sache</td>\n",
       "      <td>R$ 9,99</td>\n",
       "    </tr>\n",
       "    <tr>\n",
       "      <th>15</th>\n",
       "      <td>Sorbet Orgânico Açaí Eco Fresh Pote 1,02kg</td>\n",
       "      <td>R$ 42,98</td>\n",
       "    </tr>\n",
       "    <tr>\n",
       "      <th>16</th>\n",
       "      <td>Vinho Chileno Rosé Meio Seco Orgânico Reserva ...</td>\n",
       "      <td>R$ 76,80</td>\n",
       "    </tr>\n",
       "    <tr>\n",
       "      <th>17</th>\n",
       "      <td>Hortelã Orgânico Caisp</td>\n",
       "      <td>0</td>\n",
       "    </tr>\n",
       "    <tr>\n",
       "      <th>18</th>\n",
       "      <td>Espinafre Orgânico Caisp 180g</td>\n",
       "      <td>0</td>\n",
       "    </tr>\n",
       "  </tbody>\n",
       "</table>\n",
       "</div>"
      ],
      "text/plain": [
       "                                              produto    precos\n",
       "0                  Açucar Native Orgânico Dourado 1kg   R$ 8,79\n",
       "1                  Açucar Itaja 1KG Organico Demerara   R$ 6,48\n",
       "2                    Açúcar Native Orgânico Claro 1kg   R$ 6,99\n",
       "3                   Açucar Cristal Itaja 1kg Organico   R$ 5,99\n",
       "4          Bebida De Aveia Nude Organico S/ Gluten 1L  R$ 19,90\n",
       "5           Bebida De Aveia Nude Organico Baunilha 1L  R$ 19,90\n",
       "6           Bebida De Aveia Nude Organico Integral 1L  R$ 19,90\n",
       "7              Bebida De Aveia Nude Organico Cacau 1L  R$ 19,90\n",
       "8   Achocolatado Orgânico Em Pó Instantâneo Native...  R$ 19,80\n",
       "9           Chá Mate Poder da Terra Organico Limão 1L   R$ 9,90\n",
       "10        Chá Mate Poder da Terra Organico Pessego 1L   R$ 9,90\n",
       "11            Cereal Corn Flakes Native Organico 300g  R$ 16,98\n",
       "12            Açucar Tia Sonia 400g Organico Demerara  R$ 11,98\n",
       "13    Chá Mate Poder Da Terra Organico Tradicional 1L   R$ 9,90\n",
       "14                  Açucar Native 250g Organico Sache   R$ 9,99\n",
       "15         Sorbet Orgânico Açaí Eco Fresh Pote 1,02kg  R$ 42,98\n",
       "16  Vinho Chileno Rosé Meio Seco Orgânico Reserva ...  R$ 76,80\n",
       "17                             Hortelã Orgânico Caisp         0\n",
       "18                      Espinafre Orgânico Caisp 180g         0"
      ]
     },
     "execution_count": 54,
     "metadata": {},
     "output_type": "execute_result"
    }
   ],
   "source": [
    "df.fillna(0, inplace=True)\n",
    "\n",
    "df.reset_index(drop=True)"
   ]
  },
  {
   "cell_type": "code",
   "execution_count": 55,
   "metadata": {},
   "outputs": [
    {
     "data": {
      "text/html": [
       "<div>\n",
       "<style scoped>\n",
       "    .dataframe tbody tr th:only-of-type {\n",
       "        vertical-align: middle;\n",
       "    }\n",
       "\n",
       "    .dataframe tbody tr th {\n",
       "        vertical-align: top;\n",
       "    }\n",
       "\n",
       "    .dataframe thead th {\n",
       "        text-align: right;\n",
       "    }\n",
       "</style>\n",
       "<table border=\"1\" class=\"dataframe\">\n",
       "  <thead>\n",
       "    <tr style=\"text-align: right;\">\n",
       "      <th></th>\n",
       "      <th>produto</th>\n",
       "      <th>precos</th>\n",
       "    </tr>\n",
       "  </thead>\n",
       "  <tbody>\n",
       "    <tr>\n",
       "      <th>count</th>\n",
       "      <td>19</td>\n",
       "      <td>19</td>\n",
       "    </tr>\n",
       "    <tr>\n",
       "      <th>unique</th>\n",
       "      <td>19</td>\n",
       "      <td>13</td>\n",
       "    </tr>\n",
       "    <tr>\n",
       "      <th>top</th>\n",
       "      <td>Açucar Native Orgânico Dourado 1kg</td>\n",
       "      <td>R$ 19,90</td>\n",
       "    </tr>\n",
       "    <tr>\n",
       "      <th>freq</th>\n",
       "      <td>1</td>\n",
       "      <td>4</td>\n",
       "    </tr>\n",
       "  </tbody>\n",
       "</table>\n",
       "</div>"
      ],
      "text/plain": [
       "                                   produto    precos\n",
       "count                                   19        19\n",
       "unique                                  19        13\n",
       "top     Açucar Native Orgânico Dourado 1kg  R$ 19,90\n",
       "freq                                     1         4"
      ]
     },
     "execution_count": 55,
     "metadata": {},
     "output_type": "execute_result"
    }
   ],
   "source": [
    "df.describe()"
   ]
  },
  {
   "cell_type": "code",
   "execution_count": 56,
   "metadata": {},
   "outputs": [
    {
     "data": {
      "text/plain": [
       "Index(['produto', 'precos'], dtype='object')"
      ]
     },
     "execution_count": 56,
     "metadata": {},
     "output_type": "execute_result"
    }
   ],
   "source": [
    "df.columns"
   ]
  },
  {
   "cell_type": "code",
   "execution_count": 57,
   "metadata": {},
   "outputs": [
    {
     "data": {
      "application/vnd.plotly.v1+json": {
       "config": {
        "plotlyServerURL": "https://plot.ly"
       },
       "data": [
        {
         "alignmentgroup": "True",
         "bingroup": "x",
         "hovertemplate": "variable=precos<br>value=%{x}<br>count=%{y}<extra></extra>",
         "legendgroup": "precos",
         "marker": {
          "color": "#000001",
          "pattern": {
           "shape": ""
          }
         },
         "name": "precos",
         "offsetgroup": "precos",
         "orientation": "v",
         "showlegend": true,
         "type": "histogram",
         "x": [
          "R$ 8,79",
          "R$ 6,48",
          "R$ 6,99",
          "R$ 5,99",
          "R$ 19,90",
          "R$ 19,90",
          "R$ 19,90",
          "R$ 19,90",
          "R$ 19,80",
          "R$ 9,90",
          "R$ 9,90",
          "R$ 16,98",
          "R$ 11,98",
          "R$ 9,90",
          "R$ 9,99",
          "R$ 42,98",
          "R$ 76,80",
          0,
          0
         ],
         "xaxis": "x",
         "yaxis": "y"
        }
       ],
       "layout": {
        "barmode": "relative",
        "legend": {
         "title": {
          "text": "variable"
         },
         "tracegroupgap": 0
        },
        "margin": {
         "t": 60
        },
        "template": {
         "data": {
          "candlestick": [
           {
            "decreasing": {
             "line": {
              "color": "#000033"
             }
            },
            "increasing": {
             "line": {
              "color": "#000032"
             }
            },
            "type": "candlestick"
           }
          ],
          "contour": [
           {
            "colorscale": [
             [
              0,
              "#000011"
             ],
             [
              0.1111111111111111,
              "#000012"
             ],
             [
              0.2222222222222222,
              "#000013"
             ],
             [
              0.3333333333333333,
              "#000014"
             ],
             [
              0.4444444444444444,
              "#000015"
             ],
             [
              0.5555555555555556,
              "#000016"
             ],
             [
              0.6666666666666666,
              "#000017"
             ],
             [
              0.7777777777777778,
              "#000018"
             ],
             [
              0.8888888888888888,
              "#000019"
             ],
             [
              1,
              "#000020"
             ]
            ],
            "type": "contour"
           }
          ],
          "contourcarpet": [
           {
            "colorscale": [
             [
              0,
              "#000011"
             ],
             [
              0.1111111111111111,
              "#000012"
             ],
             [
              0.2222222222222222,
              "#000013"
             ],
             [
              0.3333333333333333,
              "#000014"
             ],
             [
              0.4444444444444444,
              "#000015"
             ],
             [
              0.5555555555555556,
              "#000016"
             ],
             [
              0.6666666666666666,
              "#000017"
             ],
             [
              0.7777777777777778,
              "#000018"
             ],
             [
              0.8888888888888888,
              "#000019"
             ],
             [
              1,
              "#000020"
             ]
            ],
            "type": "contourcarpet"
           }
          ],
          "heatmap": [
           {
            "colorscale": [
             [
              0,
              "#000011"
             ],
             [
              0.1111111111111111,
              "#000012"
             ],
             [
              0.2222222222222222,
              "#000013"
             ],
             [
              0.3333333333333333,
              "#000014"
             ],
             [
              0.4444444444444444,
              "#000015"
             ],
             [
              0.5555555555555556,
              "#000016"
             ],
             [
              0.6666666666666666,
              "#000017"
             ],
             [
              0.7777777777777778,
              "#000018"
             ],
             [
              0.8888888888888888,
              "#000019"
             ],
             [
              1,
              "#000020"
             ]
            ],
            "type": "heatmap"
           }
          ],
          "histogram2d": [
           {
            "colorscale": [
             [
              0,
              "#000011"
             ],
             [
              0.1111111111111111,
              "#000012"
             ],
             [
              0.2222222222222222,
              "#000013"
             ],
             [
              0.3333333333333333,
              "#000014"
             ],
             [
              0.4444444444444444,
              "#000015"
             ],
             [
              0.5555555555555556,
              "#000016"
             ],
             [
              0.6666666666666666,
              "#000017"
             ],
             [
              0.7777777777777778,
              "#000018"
             ],
             [
              0.8888888888888888,
              "#000019"
             ],
             [
              1,
              "#000020"
             ]
            ],
            "type": "histogram2d"
           }
          ],
          "icicle": [
           {
            "textfont": {
             "color": "white"
            },
            "type": "icicle"
           }
          ],
          "sankey": [
           {
            "textfont": {
             "color": "#000036"
            },
            "type": "sankey"
           }
          ],
          "scatter": [
           {
            "marker": {
             "line": {
              "width": 0
             }
            },
            "type": "scatter"
           }
          ],
          "table": [
           {
            "cells": {
             "fill": {
              "color": "#000038"
             },
             "font": {
              "color": "#000037"
             },
             "line": {
              "color": "#000039"
             }
            },
            "header": {
             "fill": {
              "color": "#000040"
             },
             "font": {
              "color": "#000036"
             },
             "line": {
              "color": "#000039"
             }
            },
            "type": "table"
           }
          ],
          "waterfall": [
           {
            "connector": {
             "line": {
              "color": "#000036",
              "width": 2
             }
            },
            "decreasing": {
             "marker": {
              "color": "#000033"
             }
            },
            "increasing": {
             "marker": {
              "color": "#000032"
             }
            },
            "totals": {
             "marker": {
              "color": "#000034"
             }
            },
            "type": "waterfall"
           }
          ]
         },
         "layout": {
          "coloraxis": {
           "colorscale": [
            [
             0,
             "#000011"
            ],
            [
             0.1111111111111111,
             "#000012"
            ],
            [
             0.2222222222222222,
             "#000013"
            ],
            [
             0.3333333333333333,
             "#000014"
            ],
            [
             0.4444444444444444,
             "#000015"
            ],
            [
             0.5555555555555556,
             "#000016"
            ],
            [
             0.6666666666666666,
             "#000017"
            ],
            [
             0.7777777777777778,
             "#000018"
            ],
            [
             0.8888888888888888,
             "#000019"
            ],
            [
             1,
             "#000020"
            ]
           ]
          },
          "colorscale": {
           "diverging": [
            [
             0,
             "#000021"
            ],
            [
             0.1,
             "#000022"
            ],
            [
             0.2,
             "#000023"
            ],
            [
             0.3,
             "#000024"
            ],
            [
             0.4,
             "#000025"
            ],
            [
             0.5,
             "#000026"
            ],
            [
             0.6,
             "#000027"
            ],
            [
             0.7,
             "#000028"
            ],
            [
             0.8,
             "#000029"
            ],
            [
             0.9,
             "#000030"
            ],
            [
             1,
             "#000031"
            ]
           ],
           "sequential": [
            [
             0,
             "#000011"
            ],
            [
             0.1111111111111111,
             "#000012"
            ],
            [
             0.2222222222222222,
             "#000013"
            ],
            [
             0.3333333333333333,
             "#000014"
            ],
            [
             0.4444444444444444,
             "#000015"
            ],
            [
             0.5555555555555556,
             "#000016"
            ],
            [
             0.6666666666666666,
             "#000017"
            ],
            [
             0.7777777777777778,
             "#000018"
            ],
            [
             0.8888888888888888,
             "#000019"
            ],
            [
             1,
             "#000020"
            ]
           ],
           "sequentialminus": [
            [
             0,
             "#000011"
            ],
            [
             0.1111111111111111,
             "#000012"
            ],
            [
             0.2222222222222222,
             "#000013"
            ],
            [
             0.3333333333333333,
             "#000014"
            ],
            [
             0.4444444444444444,
             "#000015"
            ],
            [
             0.5555555555555556,
             "#000016"
            ],
            [
             0.6666666666666666,
             "#000017"
            ],
            [
             0.7777777777777778,
             "#000018"
            ],
            [
             0.8888888888888888,
             "#000019"
            ],
            [
             1,
             "#000020"
            ]
           ]
          },
          "colorway": [
           "#000001",
           "#000002",
           "#000003",
           "#000004",
           "#000005",
           "#000006",
           "#000007",
           "#000008",
           "#000009",
           "#000010"
          ]
         }
        },
        "xaxis": {
         "anchor": "y",
         "domain": [
          0,
          1
         ],
         "title": {
          "text": "value"
         }
        },
        "yaxis": {
         "anchor": "x",
         "domain": [
          0,
          1
         ],
         "title": {
          "text": "count"
         }
        }
       }
      }
     },
     "metadata": {},
     "output_type": "display_data"
    }
   ],
   "source": [
    "px.histogram(df.precos)"
   ]
  },
  {
   "cell_type": "code",
   "execution_count": 58,
   "metadata": {},
   "outputs": [
    {
     "name": "stdout",
     "output_type": "stream",
     "text": [
      "A média da variável precos é de 16.64\n",
      "A mediana da variável precos é de 9.99\n",
      "O desvio padrão da variável precos é de 17.47\n"
     ]
    }
   ],
   "source": [
    "df['precos'] = df['precos'].replace({'R\\\\$': '', ',': '.'}, regex=True)\n",
    "df['precos'] = pd.to_numeric(df['precos'], errors='coerce')\n",
    "df['precos'] = df['precos'].fillna(0)\n",
    "escolha_variavel = 'precos'\n",
    "media = df[escolha_variavel].mean()\n",
    "mediana = df[escolha_variavel].median()\n",
    "desvio_padrao = df[escolha_variavel].std()\n",
    "print(f'A média da variável {escolha_variavel} é de {media:.2f}')\n",
    "print(f'A mediana da variável {escolha_variavel} é de {mediana:.2f}')\n",
    "print(f'O desvio padrão da variável {escolha_variavel} é de {desvio_padrao:.2f}')"
   ]
  },
  {
   "cell_type": "code",
   "execution_count": 59,
   "metadata": {},
   "outputs": [
    {
     "data": {
      "application/vnd.plotly.v1+json": {
       "config": {
        "plotlyServerURL": "https://plot.ly"
       },
       "data": [
        {
         "domain": {
          "x": [
           0,
           1
          ],
          "y": [
           0,
           1
          ]
         },
         "hovertemplate": "precos=%{label}<extra></extra>",
         "labels": [
          8.79,
          6.48,
          6.99,
          5.99,
          19.9,
          19.9,
          19.9,
          19.9,
          19.8,
          9.9,
          9.9,
          16.98,
          11.98,
          9.9,
          9.99,
          42.98,
          76.8,
          0,
          0
         ],
         "legendgroup": "",
         "name": "",
         "showlegend": true,
         "type": "pie"
        }
       ],
       "layout": {
        "legend": {
         "tracegroupgap": 0
        },
        "margin": {
         "t": 60
        },
        "template": {
         "data": {
          "candlestick": [
           {
            "decreasing": {
             "line": {
              "color": "#000033"
             }
            },
            "increasing": {
             "line": {
              "color": "#000032"
             }
            },
            "type": "candlestick"
           }
          ],
          "contour": [
           {
            "colorscale": [
             [
              0,
              "#000011"
             ],
             [
              0.1111111111111111,
              "#000012"
             ],
             [
              0.2222222222222222,
              "#000013"
             ],
             [
              0.3333333333333333,
              "#000014"
             ],
             [
              0.4444444444444444,
              "#000015"
             ],
             [
              0.5555555555555556,
              "#000016"
             ],
             [
              0.6666666666666666,
              "#000017"
             ],
             [
              0.7777777777777778,
              "#000018"
             ],
             [
              0.8888888888888888,
              "#000019"
             ],
             [
              1,
              "#000020"
             ]
            ],
            "type": "contour"
           }
          ],
          "contourcarpet": [
           {
            "colorscale": [
             [
              0,
              "#000011"
             ],
             [
              0.1111111111111111,
              "#000012"
             ],
             [
              0.2222222222222222,
              "#000013"
             ],
             [
              0.3333333333333333,
              "#000014"
             ],
             [
              0.4444444444444444,
              "#000015"
             ],
             [
              0.5555555555555556,
              "#000016"
             ],
             [
              0.6666666666666666,
              "#000017"
             ],
             [
              0.7777777777777778,
              "#000018"
             ],
             [
              0.8888888888888888,
              "#000019"
             ],
             [
              1,
              "#000020"
             ]
            ],
            "type": "contourcarpet"
           }
          ],
          "heatmap": [
           {
            "colorscale": [
             [
              0,
              "#000011"
             ],
             [
              0.1111111111111111,
              "#000012"
             ],
             [
              0.2222222222222222,
              "#000013"
             ],
             [
              0.3333333333333333,
              "#000014"
             ],
             [
              0.4444444444444444,
              "#000015"
             ],
             [
              0.5555555555555556,
              "#000016"
             ],
             [
              0.6666666666666666,
              "#000017"
             ],
             [
              0.7777777777777778,
              "#000018"
             ],
             [
              0.8888888888888888,
              "#000019"
             ],
             [
              1,
              "#000020"
             ]
            ],
            "type": "heatmap"
           }
          ],
          "histogram2d": [
           {
            "colorscale": [
             [
              0,
              "#000011"
             ],
             [
              0.1111111111111111,
              "#000012"
             ],
             [
              0.2222222222222222,
              "#000013"
             ],
             [
              0.3333333333333333,
              "#000014"
             ],
             [
              0.4444444444444444,
              "#000015"
             ],
             [
              0.5555555555555556,
              "#000016"
             ],
             [
              0.6666666666666666,
              "#000017"
             ],
             [
              0.7777777777777778,
              "#000018"
             ],
             [
              0.8888888888888888,
              "#000019"
             ],
             [
              1,
              "#000020"
             ]
            ],
            "type": "histogram2d"
           }
          ],
          "icicle": [
           {
            "textfont": {
             "color": "white"
            },
            "type": "icicle"
           }
          ],
          "sankey": [
           {
            "textfont": {
             "color": "#000036"
            },
            "type": "sankey"
           }
          ],
          "scatter": [
           {
            "marker": {
             "line": {
              "width": 0
             }
            },
            "type": "scatter"
           }
          ],
          "table": [
           {
            "cells": {
             "fill": {
              "color": "#000038"
             },
             "font": {
              "color": "#000037"
             },
             "line": {
              "color": "#000039"
             }
            },
            "header": {
             "fill": {
              "color": "#000040"
             },
             "font": {
              "color": "#000036"
             },
             "line": {
              "color": "#000039"
             }
            },
            "type": "table"
           }
          ],
          "waterfall": [
           {
            "connector": {
             "line": {
              "color": "#000036",
              "width": 2
             }
            },
            "decreasing": {
             "marker": {
              "color": "#000033"
             }
            },
            "increasing": {
             "marker": {
              "color": "#000032"
             }
            },
            "totals": {
             "marker": {
              "color": "#000034"
             }
            },
            "type": "waterfall"
           }
          ]
         },
         "layout": {
          "coloraxis": {
           "colorscale": [
            [
             0,
             "#000011"
            ],
            [
             0.1111111111111111,
             "#000012"
            ],
            [
             0.2222222222222222,
             "#000013"
            ],
            [
             0.3333333333333333,
             "#000014"
            ],
            [
             0.4444444444444444,
             "#000015"
            ],
            [
             0.5555555555555556,
             "#000016"
            ],
            [
             0.6666666666666666,
             "#000017"
            ],
            [
             0.7777777777777778,
             "#000018"
            ],
            [
             0.8888888888888888,
             "#000019"
            ],
            [
             1,
             "#000020"
            ]
           ]
          },
          "colorscale": {
           "diverging": [
            [
             0,
             "#000021"
            ],
            [
             0.1,
             "#000022"
            ],
            [
             0.2,
             "#000023"
            ],
            [
             0.3,
             "#000024"
            ],
            [
             0.4,
             "#000025"
            ],
            [
             0.5,
             "#000026"
            ],
            [
             0.6,
             "#000027"
            ],
            [
             0.7,
             "#000028"
            ],
            [
             0.8,
             "#000029"
            ],
            [
             0.9,
             "#000030"
            ],
            [
             1,
             "#000031"
            ]
           ],
           "sequential": [
            [
             0,
             "#000011"
            ],
            [
             0.1111111111111111,
             "#000012"
            ],
            [
             0.2222222222222222,
             "#000013"
            ],
            [
             0.3333333333333333,
             "#000014"
            ],
            [
             0.4444444444444444,
             "#000015"
            ],
            [
             0.5555555555555556,
             "#000016"
            ],
            [
             0.6666666666666666,
             "#000017"
            ],
            [
             0.7777777777777778,
             "#000018"
            ],
            [
             0.8888888888888888,
             "#000019"
            ],
            [
             1,
             "#000020"
            ]
           ],
           "sequentialminus": [
            [
             0,
             "#000011"
            ],
            [
             0.1111111111111111,
             "#000012"
            ],
            [
             0.2222222222222222,
             "#000013"
            ],
            [
             0.3333333333333333,
             "#000014"
            ],
            [
             0.4444444444444444,
             "#000015"
            ],
            [
             0.5555555555555556,
             "#000016"
            ],
            [
             0.6666666666666666,
             "#000017"
            ],
            [
             0.7777777777777778,
             "#000018"
            ],
            [
             0.8888888888888888,
             "#000019"
            ],
            [
             1,
             "#000020"
            ]
           ]
          },
          "colorway": [
           "#000001",
           "#000002",
           "#000003",
           "#000004",
           "#000005",
           "#000006",
           "#000007",
           "#000008",
           "#000009",
           "#000010"
          ]
         }
        }
       }
      }
     },
     "metadata": {},
     "output_type": "display_data"
    }
   ],
   "source": [
    "df['precos'].value_counts()\n",
    "df['produto'].value_counts()\n",
    "px.pie(df, \"precos\")"
   ]
  },
  {
   "cell_type": "code",
   "execution_count": 60,
   "metadata": {},
   "outputs": [
    {
     "name": "stdout",
     "output_type": "stream",
     "text": [
      "A média da variável precos é de 16.64\n",
      "A mediana da variável precos é de 9.99\n",
      "O desvio padrão da variável precos é de 17.47\n"
     ]
    }
   ],
   "source": [
    "df['precos'] = df['precos'].replace({'R\\\\$': '', ',': '.'}, regex=True)\n",
    "df['precos'] = pd.to_numeric(df['precos'], errors='coerce')\n",
    "df['precos'] = df['precos'].fillna(0)\n",
    "escolha_variavel = 'precos'\n",
    "media = df[escolha_variavel].mean()\n",
    "mediana = df[escolha_variavel].median()\n",
    "desvio_padrao = df[escolha_variavel].std()\n",
    "print(f'A média da variável {escolha_variavel} é de {media:.2f}')\n",
    "print(f'A mediana da variável {escolha_variavel} é de {mediana:.2f}')\n",
    "print(f'O desvio padrão da variável {escolha_variavel} é de {desvio_padrao:.2f}')"
   ]
  },
  {
   "cell_type": "code",
   "execution_count": 61,
   "metadata": {},
   "outputs": [
    {
     "data": {
      "application/vnd.plotly.v1+json": {
       "config": {
        "plotlyServerURL": "https://plot.ly"
       },
       "data": [
        {
         "alignmentgroup": "True",
         "hovertemplate": "precos=%{x}<br>index=%{y}<extra></extra>",
         "legendgroup": "",
         "marker": {
          "color": "#000001",
          "pattern": {
           "shape": ""
          }
         },
         "name": "",
         "offsetgroup": "",
         "orientation": "h",
         "showlegend": false,
         "textposition": "auto",
         "type": "bar",
         "x": [
          8.79,
          6.48,
          6.99,
          5.99,
          19.9,
          19.9,
          19.9,
          19.9,
          19.8,
          9.9,
          9.9,
          16.98,
          11.98,
          9.9,
          9.99,
          42.98,
          76.8,
          0,
          0
         ],
         "xaxis": "x",
         "y": [
          0,
          1,
          2,
          3,
          4,
          5,
          6,
          7,
          8,
          9,
          10,
          11,
          12,
          13,
          14,
          15,
          16,
          17,
          18
         ],
         "yaxis": "y"
        }
       ],
       "layout": {
        "barmode": "relative",
        "legend": {
         "tracegroupgap": 0
        },
        "margin": {
         "t": 60
        },
        "template": {
         "data": {
          "candlestick": [
           {
            "decreasing": {
             "line": {
              "color": "#000033"
             }
            },
            "increasing": {
             "line": {
              "color": "#000032"
             }
            },
            "type": "candlestick"
           }
          ],
          "contour": [
           {
            "colorscale": [
             [
              0,
              "#000011"
             ],
             [
              0.1111111111111111,
              "#000012"
             ],
             [
              0.2222222222222222,
              "#000013"
             ],
             [
              0.3333333333333333,
              "#000014"
             ],
             [
              0.4444444444444444,
              "#000015"
             ],
             [
              0.5555555555555556,
              "#000016"
             ],
             [
              0.6666666666666666,
              "#000017"
             ],
             [
              0.7777777777777778,
              "#000018"
             ],
             [
              0.8888888888888888,
              "#000019"
             ],
             [
              1,
              "#000020"
             ]
            ],
            "type": "contour"
           }
          ],
          "contourcarpet": [
           {
            "colorscale": [
             [
              0,
              "#000011"
             ],
             [
              0.1111111111111111,
              "#000012"
             ],
             [
              0.2222222222222222,
              "#000013"
             ],
             [
              0.3333333333333333,
              "#000014"
             ],
             [
              0.4444444444444444,
              "#000015"
             ],
             [
              0.5555555555555556,
              "#000016"
             ],
             [
              0.6666666666666666,
              "#000017"
             ],
             [
              0.7777777777777778,
              "#000018"
             ],
             [
              0.8888888888888888,
              "#000019"
             ],
             [
              1,
              "#000020"
             ]
            ],
            "type": "contourcarpet"
           }
          ],
          "heatmap": [
           {
            "colorscale": [
             [
              0,
              "#000011"
             ],
             [
              0.1111111111111111,
              "#000012"
             ],
             [
              0.2222222222222222,
              "#000013"
             ],
             [
              0.3333333333333333,
              "#000014"
             ],
             [
              0.4444444444444444,
              "#000015"
             ],
             [
              0.5555555555555556,
              "#000016"
             ],
             [
              0.6666666666666666,
              "#000017"
             ],
             [
              0.7777777777777778,
              "#000018"
             ],
             [
              0.8888888888888888,
              "#000019"
             ],
             [
              1,
              "#000020"
             ]
            ],
            "type": "heatmap"
           }
          ],
          "histogram2d": [
           {
            "colorscale": [
             [
              0,
              "#000011"
             ],
             [
              0.1111111111111111,
              "#000012"
             ],
             [
              0.2222222222222222,
              "#000013"
             ],
             [
              0.3333333333333333,
              "#000014"
             ],
             [
              0.4444444444444444,
              "#000015"
             ],
             [
              0.5555555555555556,
              "#000016"
             ],
             [
              0.6666666666666666,
              "#000017"
             ],
             [
              0.7777777777777778,
              "#000018"
             ],
             [
              0.8888888888888888,
              "#000019"
             ],
             [
              1,
              "#000020"
             ]
            ],
            "type": "histogram2d"
           }
          ],
          "icicle": [
           {
            "textfont": {
             "color": "white"
            },
            "type": "icicle"
           }
          ],
          "sankey": [
           {
            "textfont": {
             "color": "#000036"
            },
            "type": "sankey"
           }
          ],
          "scatter": [
           {
            "marker": {
             "line": {
              "width": 0
             }
            },
            "type": "scatter"
           }
          ],
          "table": [
           {
            "cells": {
             "fill": {
              "color": "#000038"
             },
             "font": {
              "color": "#000037"
             },
             "line": {
              "color": "#000039"
             }
            },
            "header": {
             "fill": {
              "color": "#000040"
             },
             "font": {
              "color": "#000036"
             },
             "line": {
              "color": "#000039"
             }
            },
            "type": "table"
           }
          ],
          "waterfall": [
           {
            "connector": {
             "line": {
              "color": "#000036",
              "width": 2
             }
            },
            "decreasing": {
             "marker": {
              "color": "#000033"
             }
            },
            "increasing": {
             "marker": {
              "color": "#000032"
             }
            },
            "totals": {
             "marker": {
              "color": "#000034"
             }
            },
            "type": "waterfall"
           }
          ]
         },
         "layout": {
          "coloraxis": {
           "colorscale": [
            [
             0,
             "#000011"
            ],
            [
             0.1111111111111111,
             "#000012"
            ],
            [
             0.2222222222222222,
             "#000013"
            ],
            [
             0.3333333333333333,
             "#000014"
            ],
            [
             0.4444444444444444,
             "#000015"
            ],
            [
             0.5555555555555556,
             "#000016"
            ],
            [
             0.6666666666666666,
             "#000017"
            ],
            [
             0.7777777777777778,
             "#000018"
            ],
            [
             0.8888888888888888,
             "#000019"
            ],
            [
             1,
             "#000020"
            ]
           ]
          },
          "colorscale": {
           "diverging": [
            [
             0,
             "#000021"
            ],
            [
             0.1,
             "#000022"
            ],
            [
             0.2,
             "#000023"
            ],
            [
             0.3,
             "#000024"
            ],
            [
             0.4,
             "#000025"
            ],
            [
             0.5,
             "#000026"
            ],
            [
             0.6,
             "#000027"
            ],
            [
             0.7,
             "#000028"
            ],
            [
             0.8,
             "#000029"
            ],
            [
             0.9,
             "#000030"
            ],
            [
             1,
             "#000031"
            ]
           ],
           "sequential": [
            [
             0,
             "#000011"
            ],
            [
             0.1111111111111111,
             "#000012"
            ],
            [
             0.2222222222222222,
             "#000013"
            ],
            [
             0.3333333333333333,
             "#000014"
            ],
            [
             0.4444444444444444,
             "#000015"
            ],
            [
             0.5555555555555556,
             "#000016"
            ],
            [
             0.6666666666666666,
             "#000017"
            ],
            [
             0.7777777777777778,
             "#000018"
            ],
            [
             0.8888888888888888,
             "#000019"
            ],
            [
             1,
             "#000020"
            ]
           ],
           "sequentialminus": [
            [
             0,
             "#000011"
            ],
            [
             0.1111111111111111,
             "#000012"
            ],
            [
             0.2222222222222222,
             "#000013"
            ],
            [
             0.3333333333333333,
             "#000014"
            ],
            [
             0.4444444444444444,
             "#000015"
            ],
            [
             0.5555555555555556,
             "#000016"
            ],
            [
             0.6666666666666666,
             "#000017"
            ],
            [
             0.7777777777777778,
             "#000018"
            ],
            [
             0.8888888888888888,
             "#000019"
            ],
            [
             1,
             "#000020"
            ]
           ]
          },
          "colorway": [
           "#000001",
           "#000002",
           "#000003",
           "#000004",
           "#000005",
           "#000006",
           "#000007",
           "#000008",
           "#000009",
           "#000010"
          ]
         }
        },
        "xaxis": {
         "anchor": "y",
         "domain": [
          0,
          1
         ],
         "title": {
          "text": "precos"
         }
        },
        "yaxis": {
         "anchor": "x",
         "domain": [
          0,
          1
         ],
         "title": {
          "text": "index"
         }
        }
       }
      }
     },
     "metadata": {},
     "output_type": "display_data"
    }
   ],
   "source": [
    "px.bar(df, 'precos')"
   ]
  },
  {
   "cell_type": "code",
   "execution_count": 62,
   "metadata": {},
   "outputs": [
    {
     "name": "stdout",
     "output_type": "stream",
     "text": [
      "A média da variável precos é de 16.64\n",
      "A mediana da variável precos é de 9.99\n",
      "O desvio padrão da variável precos é de 17.47\n"
     ]
    }
   ],
   "source": [
    "df['precos'] = df['precos'].replace({'R\\\\$': '', ',': '.'}, regex=True)\n",
    "df['precos'] = pd.to_numeric(df['precos'], errors='coerce')\n",
    "df['precos'] = df['precos'].fillna(0)\n",
    "escolha_variavel = 'precos'\n",
    "media = df[escolha_variavel].mean()\n",
    "mediana = df[escolha_variavel].median()\n",
    "desvio_padrao = df[escolha_variavel].std()\n",
    "print(f'A média da variável {escolha_variavel} é de {media:.2f}')\n",
    "print(f'A mediana da variável {escolha_variavel} é de {mediana:.2f}')\n",
    "print(f'O desvio padrão da variável {escolha_variavel} é de {desvio_padrao:.2f}')"
   ]
  },
  {
   "cell_type": "code",
   "execution_count": 63,
   "metadata": {},
   "outputs": [
    {
     "data": {
      "application/vnd.plotly.v1+json": {
       "config": {
        "plotlyServerURL": "https://plot.ly"
       },
       "data": [
        {
         "alignmentgroup": "True",
         "hovertemplate": "precos=%{x}<br>produto=%{y}<br>agrup1=%{marker.color}<extra></extra>",
         "legendgroup": "",
         "marker": {
          "color": [
           0,
           0,
           0,
           0,
           1,
           1,
           1,
           1,
           1,
           0,
           0,
           1,
           1,
           0,
           0,
           0,
           0,
           0,
           0
          ],
          "coloraxis": "coloraxis",
          "pattern": {
           "shape": ""
          }
         },
         "name": "",
         "offsetgroup": "",
         "orientation": "h",
         "showlegend": false,
         "textposition": "auto",
         "type": "bar",
         "x": [
          8.79,
          6.48,
          6.99,
          5.99,
          19.9,
          19.9,
          19.9,
          19.9,
          19.8,
          9.9,
          9.9,
          16.98,
          11.98,
          9.9,
          9.99,
          42.98,
          76.8,
          0,
          0
         ],
         "xaxis": "x",
         "y": [
          "Açucar Native Orgânico Dourado 1kg",
          "Açucar Itaja 1KG Organico Demerara",
          "Açúcar Native Orgânico Claro 1kg",
          "Açucar Cristal Itaja 1kg Organico",
          "Bebida De Aveia Nude Organico S/ Gluten 1L",
          "Bebida De Aveia Nude Organico Baunilha 1L",
          "Bebida De Aveia Nude Organico Integral 1L",
          "Bebida De Aveia Nude Organico Cacau 1L",
          "Achocolatado Orgânico Em Pó Instantâneo Native 400G",
          "Chá Mate Poder da Terra Organico Limão 1L",
          "Chá Mate Poder da Terra Organico Pessego 1L",
          "Cereal Corn Flakes Native Organico 300g",
          "Açucar Tia Sonia 400g Organico Demerara",
          "Chá Mate Poder Da Terra Organico Tradicional 1L",
          "Açucar Native 250g Organico Sache",
          "Sorbet Orgânico Açaí Eco Fresh Pote 1,02kg",
          "Vinho Chileno Rosé Meio Seco Orgânico Reserva Adobe Valle del Rapel Garrafa 750ml",
          "Hortelã Orgânico Caisp",
          "Espinafre Orgânico Caisp 180g"
         ],
         "yaxis": "y"
        }
       ],
       "layout": {
        "barmode": "relative",
        "coloraxis": {
         "colorbar": {
          "title": {
           "text": "agrup1"
          }
         },
         "colorscale": [
          [
           0,
           "#000011"
          ],
          [
           0.1111111111111111,
           "#000012"
          ],
          [
           0.2222222222222222,
           "#000013"
          ],
          [
           0.3333333333333333,
           "#000014"
          ],
          [
           0.4444444444444444,
           "#000015"
          ],
          [
           0.5555555555555556,
           "#000016"
          ],
          [
           0.6666666666666666,
           "#000017"
          ],
          [
           0.7777777777777778,
           "#000018"
          ],
          [
           0.8888888888888888,
           "#000019"
          ],
          [
           1,
           "#000020"
          ]
         ]
        },
        "legend": {
         "tracegroupgap": 0
        },
        "margin": {
         "t": 60
        },
        "template": {
         "data": {
          "candlestick": [
           {
            "decreasing": {
             "line": {
              "color": "#000033"
             }
            },
            "increasing": {
             "line": {
              "color": "#000032"
             }
            },
            "type": "candlestick"
           }
          ],
          "contour": [
           {
            "colorscale": [
             [
              0,
              "#000011"
             ],
             [
              0.1111111111111111,
              "#000012"
             ],
             [
              0.2222222222222222,
              "#000013"
             ],
             [
              0.3333333333333333,
              "#000014"
             ],
             [
              0.4444444444444444,
              "#000015"
             ],
             [
              0.5555555555555556,
              "#000016"
             ],
             [
              0.6666666666666666,
              "#000017"
             ],
             [
              0.7777777777777778,
              "#000018"
             ],
             [
              0.8888888888888888,
              "#000019"
             ],
             [
              1,
              "#000020"
             ]
            ],
            "type": "contour"
           }
          ],
          "contourcarpet": [
           {
            "colorscale": [
             [
              0,
              "#000011"
             ],
             [
              0.1111111111111111,
              "#000012"
             ],
             [
              0.2222222222222222,
              "#000013"
             ],
             [
              0.3333333333333333,
              "#000014"
             ],
             [
              0.4444444444444444,
              "#000015"
             ],
             [
              0.5555555555555556,
              "#000016"
             ],
             [
              0.6666666666666666,
              "#000017"
             ],
             [
              0.7777777777777778,
              "#000018"
             ],
             [
              0.8888888888888888,
              "#000019"
             ],
             [
              1,
              "#000020"
             ]
            ],
            "type": "contourcarpet"
           }
          ],
          "heatmap": [
           {
            "colorscale": [
             [
              0,
              "#000011"
             ],
             [
              0.1111111111111111,
              "#000012"
             ],
             [
              0.2222222222222222,
              "#000013"
             ],
             [
              0.3333333333333333,
              "#000014"
             ],
             [
              0.4444444444444444,
              "#000015"
             ],
             [
              0.5555555555555556,
              "#000016"
             ],
             [
              0.6666666666666666,
              "#000017"
             ],
             [
              0.7777777777777778,
              "#000018"
             ],
             [
              0.8888888888888888,
              "#000019"
             ],
             [
              1,
              "#000020"
             ]
            ],
            "type": "heatmap"
           }
          ],
          "histogram2d": [
           {
            "colorscale": [
             [
              0,
              "#000011"
             ],
             [
              0.1111111111111111,
              "#000012"
             ],
             [
              0.2222222222222222,
              "#000013"
             ],
             [
              0.3333333333333333,
              "#000014"
             ],
             [
              0.4444444444444444,
              "#000015"
             ],
             [
              0.5555555555555556,
              "#000016"
             ],
             [
              0.6666666666666666,
              "#000017"
             ],
             [
              0.7777777777777778,
              "#000018"
             ],
             [
              0.8888888888888888,
              "#000019"
             ],
             [
              1,
              "#000020"
             ]
            ],
            "type": "histogram2d"
           }
          ],
          "icicle": [
           {
            "textfont": {
             "color": "white"
            },
            "type": "icicle"
           }
          ],
          "sankey": [
           {
            "textfont": {
             "color": "#000036"
            },
            "type": "sankey"
           }
          ],
          "scatter": [
           {
            "marker": {
             "line": {
              "width": 0
             }
            },
            "type": "scatter"
           }
          ],
          "table": [
           {
            "cells": {
             "fill": {
              "color": "#000038"
             },
             "font": {
              "color": "#000037"
             },
             "line": {
              "color": "#000039"
             }
            },
            "header": {
             "fill": {
              "color": "#000040"
             },
             "font": {
              "color": "#000036"
             },
             "line": {
              "color": "#000039"
             }
            },
            "type": "table"
           }
          ],
          "waterfall": [
           {
            "connector": {
             "line": {
              "color": "#000036",
              "width": 2
             }
            },
            "decreasing": {
             "marker": {
              "color": "#000033"
             }
            },
            "increasing": {
             "marker": {
              "color": "#000032"
             }
            },
            "totals": {
             "marker": {
              "color": "#000034"
             }
            },
            "type": "waterfall"
           }
          ]
         },
         "layout": {
          "coloraxis": {
           "colorscale": [
            [
             0,
             "#000011"
            ],
            [
             0.1111111111111111,
             "#000012"
            ],
            [
             0.2222222222222222,
             "#000013"
            ],
            [
             0.3333333333333333,
             "#000014"
            ],
            [
             0.4444444444444444,
             "#000015"
            ],
            [
             0.5555555555555556,
             "#000016"
            ],
            [
             0.6666666666666666,
             "#000017"
            ],
            [
             0.7777777777777778,
             "#000018"
            ],
            [
             0.8888888888888888,
             "#000019"
            ],
            [
             1,
             "#000020"
            ]
           ]
          },
          "colorscale": {
           "diverging": [
            [
             0,
             "#000021"
            ],
            [
             0.1,
             "#000022"
            ],
            [
             0.2,
             "#000023"
            ],
            [
             0.3,
             "#000024"
            ],
            [
             0.4,
             "#000025"
            ],
            [
             0.5,
             "#000026"
            ],
            [
             0.6,
             "#000027"
            ],
            [
             0.7,
             "#000028"
            ],
            [
             0.8,
             "#000029"
            ],
            [
             0.9,
             "#000030"
            ],
            [
             1,
             "#000031"
            ]
           ],
           "sequential": [
            [
             0,
             "#000011"
            ],
            [
             0.1111111111111111,
             "#000012"
            ],
            [
             0.2222222222222222,
             "#000013"
            ],
            [
             0.3333333333333333,
             "#000014"
            ],
            [
             0.4444444444444444,
             "#000015"
            ],
            [
             0.5555555555555556,
             "#000016"
            ],
            [
             0.6666666666666666,
             "#000017"
            ],
            [
             0.7777777777777778,
             "#000018"
            ],
            [
             0.8888888888888888,
             "#000019"
            ],
            [
             1,
             "#000020"
            ]
           ],
           "sequentialminus": [
            [
             0,
             "#000011"
            ],
            [
             0.1111111111111111,
             "#000012"
            ],
            [
             0.2222222222222222,
             "#000013"
            ],
            [
             0.3333333333333333,
             "#000014"
            ],
            [
             0.4444444444444444,
             "#000015"
            ],
            [
             0.5555555555555556,
             "#000016"
            ],
            [
             0.6666666666666666,
             "#000017"
            ],
            [
             0.7777777777777778,
             "#000018"
            ],
            [
             0.8888888888888888,
             "#000019"
            ],
            [
             1,
             "#000020"
            ]
           ]
          },
          "colorway": [
           "#000001",
           "#000002",
           "#000003",
           "#000004",
           "#000005",
           "#000006",
           "#000007",
           "#000008",
           "#000009",
           "#000010"
          ]
         }
        },
        "xaxis": {
         "anchor": "y",
         "domain": [
          0,
          1
         ],
         "title": {
          "text": "precos"
         }
        },
        "yaxis": {
         "anchor": "x",
         "domain": [
          0,
          1
         ],
         "title": {
          "text": "produto"
         }
        }
       }
      }
     },
     "metadata": {},
     "output_type": "display_data"
    }
   ],
   "source": [
    "df['agrup1']=((df.precos>10)&(df.precos<=20))*1\n",
    "df.agrup1.value_counts()\n",
    "\n",
    "\n",
    "px.bar(df, x='precos', y='produto', color='agrup1')\n"
   ]
  },
  {
   "cell_type": "code",
   "execution_count": 64,
   "metadata": {},
   "outputs": [
    {
     "name": "stdout",
     "output_type": "stream",
     "text": [
      "A média da variável precos é de 16.64\n",
      "A mediana da variável precos é de 9.99\n",
      "O desvio padrão da variável precos é de 17.47\n"
     ]
    }
   ],
   "source": [
    "df['precos'] = df['precos'].replace({'R\\\\$': '', ',': '.'}, regex=True)\n",
    "df['precos'] = pd.to_numeric(df['precos'], errors='coerce')\n",
    "df['precos'] = df['precos'].fillna(0)\n",
    "escolha_variavel = 'precos'\n",
    "media = df[escolha_variavel].mean()\n",
    "mediana = df[escolha_variavel].median()\n",
    "desvio_padrao = df[escolha_variavel].std()\n",
    "print(f'A média da variável {escolha_variavel} é de {media:.2f}')\n",
    "print(f'A mediana da variável {escolha_variavel} é de {mediana:.2f}')\n",
    "print(f'O desvio padrão da variável {escolha_variavel} é de {desvio_padrao:.2f}')"
   ]
  },
  {
   "cell_type": "code",
   "execution_count": 65,
   "metadata": {},
   "outputs": [
    {
     "data": {
      "application/vnd.plotly.v1+json": {
       "config": {
        "plotlyServerURL": "https://plot.ly"
       },
       "data": [
        {
         "hovertemplate": "precos=%{x}<br>produto=%{y}<br>agrup1=%{marker.color}<extra></extra>",
         "legendgroup": "",
         "marker": {
          "color": [
           0,
           0,
           0,
           0,
           1,
           1,
           1,
           1,
           1,
           0,
           0,
           1,
           1,
           0,
           0,
           0,
           0,
           0,
           0
          ],
          "coloraxis": "coloraxis",
          "symbol": "circle"
         },
         "mode": "markers",
         "name": "",
         "orientation": "h",
         "showlegend": false,
         "type": "scatter",
         "x": [
          8.79,
          6.48,
          6.99,
          5.99,
          19.9,
          19.9,
          19.9,
          19.9,
          19.8,
          9.9,
          9.9,
          16.98,
          11.98,
          9.9,
          9.99,
          42.98,
          76.8,
          0,
          0
         ],
         "xaxis": "x",
         "y": [
          "Açucar Native Orgânico Dourado 1kg",
          "Açucar Itaja 1KG Organico Demerara",
          "Açúcar Native Orgânico Claro 1kg",
          "Açucar Cristal Itaja 1kg Organico",
          "Bebida De Aveia Nude Organico S/ Gluten 1L",
          "Bebida De Aveia Nude Organico Baunilha 1L",
          "Bebida De Aveia Nude Organico Integral 1L",
          "Bebida De Aveia Nude Organico Cacau 1L",
          "Achocolatado Orgânico Em Pó Instantâneo Native 400G",
          "Chá Mate Poder da Terra Organico Limão 1L",
          "Chá Mate Poder da Terra Organico Pessego 1L",
          "Cereal Corn Flakes Native Organico 300g",
          "Açucar Tia Sonia 400g Organico Demerara",
          "Chá Mate Poder Da Terra Organico Tradicional 1L",
          "Açucar Native 250g Organico Sache",
          "Sorbet Orgânico Açaí Eco Fresh Pote 1,02kg",
          "Vinho Chileno Rosé Meio Seco Orgânico Reserva Adobe Valle del Rapel Garrafa 750ml",
          "Hortelã Orgânico Caisp",
          "Espinafre Orgânico Caisp 180g"
         ],
         "yaxis": "y"
        }
       ],
       "layout": {
        "coloraxis": {
         "colorbar": {
          "title": {
           "text": "agrup1"
          }
         },
         "colorscale": [
          [
           0,
           "#000011"
          ],
          [
           0.1111111111111111,
           "#000012"
          ],
          [
           0.2222222222222222,
           "#000013"
          ],
          [
           0.3333333333333333,
           "#000014"
          ],
          [
           0.4444444444444444,
           "#000015"
          ],
          [
           0.5555555555555556,
           "#000016"
          ],
          [
           0.6666666666666666,
           "#000017"
          ],
          [
           0.7777777777777778,
           "#000018"
          ],
          [
           0.8888888888888888,
           "#000019"
          ],
          [
           1,
           "#000020"
          ]
         ]
        },
        "legend": {
         "tracegroupgap": 0
        },
        "margin": {
         "t": 60
        },
        "template": {
         "data": {
          "candlestick": [
           {
            "decreasing": {
             "line": {
              "color": "#000033"
             }
            },
            "increasing": {
             "line": {
              "color": "#000032"
             }
            },
            "type": "candlestick"
           }
          ],
          "contour": [
           {
            "colorscale": [
             [
              0,
              "#000011"
             ],
             [
              0.1111111111111111,
              "#000012"
             ],
             [
              0.2222222222222222,
              "#000013"
             ],
             [
              0.3333333333333333,
              "#000014"
             ],
             [
              0.4444444444444444,
              "#000015"
             ],
             [
              0.5555555555555556,
              "#000016"
             ],
             [
              0.6666666666666666,
              "#000017"
             ],
             [
              0.7777777777777778,
              "#000018"
             ],
             [
              0.8888888888888888,
              "#000019"
             ],
             [
              1,
              "#000020"
             ]
            ],
            "type": "contour"
           }
          ],
          "contourcarpet": [
           {
            "colorscale": [
             [
              0,
              "#000011"
             ],
             [
              0.1111111111111111,
              "#000012"
             ],
             [
              0.2222222222222222,
              "#000013"
             ],
             [
              0.3333333333333333,
              "#000014"
             ],
             [
              0.4444444444444444,
              "#000015"
             ],
             [
              0.5555555555555556,
              "#000016"
             ],
             [
              0.6666666666666666,
              "#000017"
             ],
             [
              0.7777777777777778,
              "#000018"
             ],
             [
              0.8888888888888888,
              "#000019"
             ],
             [
              1,
              "#000020"
             ]
            ],
            "type": "contourcarpet"
           }
          ],
          "heatmap": [
           {
            "colorscale": [
             [
              0,
              "#000011"
             ],
             [
              0.1111111111111111,
              "#000012"
             ],
             [
              0.2222222222222222,
              "#000013"
             ],
             [
              0.3333333333333333,
              "#000014"
             ],
             [
              0.4444444444444444,
              "#000015"
             ],
             [
              0.5555555555555556,
              "#000016"
             ],
             [
              0.6666666666666666,
              "#000017"
             ],
             [
              0.7777777777777778,
              "#000018"
             ],
             [
              0.8888888888888888,
              "#000019"
             ],
             [
              1,
              "#000020"
             ]
            ],
            "type": "heatmap"
           }
          ],
          "histogram2d": [
           {
            "colorscale": [
             [
              0,
              "#000011"
             ],
             [
              0.1111111111111111,
              "#000012"
             ],
             [
              0.2222222222222222,
              "#000013"
             ],
             [
              0.3333333333333333,
              "#000014"
             ],
             [
              0.4444444444444444,
              "#000015"
             ],
             [
              0.5555555555555556,
              "#000016"
             ],
             [
              0.6666666666666666,
              "#000017"
             ],
             [
              0.7777777777777778,
              "#000018"
             ],
             [
              0.8888888888888888,
              "#000019"
             ],
             [
              1,
              "#000020"
             ]
            ],
            "type": "histogram2d"
           }
          ],
          "icicle": [
           {
            "textfont": {
             "color": "white"
            },
            "type": "icicle"
           }
          ],
          "sankey": [
           {
            "textfont": {
             "color": "#000036"
            },
            "type": "sankey"
           }
          ],
          "scatter": [
           {
            "marker": {
             "line": {
              "width": 0
             }
            },
            "type": "scatter"
           }
          ],
          "table": [
           {
            "cells": {
             "fill": {
              "color": "#000038"
             },
             "font": {
              "color": "#000037"
             },
             "line": {
              "color": "#000039"
             }
            },
            "header": {
             "fill": {
              "color": "#000040"
             },
             "font": {
              "color": "#000036"
             },
             "line": {
              "color": "#000039"
             }
            },
            "type": "table"
           }
          ],
          "waterfall": [
           {
            "connector": {
             "line": {
              "color": "#000036",
              "width": 2
             }
            },
            "decreasing": {
             "marker": {
              "color": "#000033"
             }
            },
            "increasing": {
             "marker": {
              "color": "#000032"
             }
            },
            "totals": {
             "marker": {
              "color": "#000034"
             }
            },
            "type": "waterfall"
           }
          ]
         },
         "layout": {
          "coloraxis": {
           "colorscale": [
            [
             0,
             "#000011"
            ],
            [
             0.1111111111111111,
             "#000012"
            ],
            [
             0.2222222222222222,
             "#000013"
            ],
            [
             0.3333333333333333,
             "#000014"
            ],
            [
             0.4444444444444444,
             "#000015"
            ],
            [
             0.5555555555555556,
             "#000016"
            ],
            [
             0.6666666666666666,
             "#000017"
            ],
            [
             0.7777777777777778,
             "#000018"
            ],
            [
             0.8888888888888888,
             "#000019"
            ],
            [
             1,
             "#000020"
            ]
           ]
          },
          "colorscale": {
           "diverging": [
            [
             0,
             "#000021"
            ],
            [
             0.1,
             "#000022"
            ],
            [
             0.2,
             "#000023"
            ],
            [
             0.3,
             "#000024"
            ],
            [
             0.4,
             "#000025"
            ],
            [
             0.5,
             "#000026"
            ],
            [
             0.6,
             "#000027"
            ],
            [
             0.7,
             "#000028"
            ],
            [
             0.8,
             "#000029"
            ],
            [
             0.9,
             "#000030"
            ],
            [
             1,
             "#000031"
            ]
           ],
           "sequential": [
            [
             0,
             "#000011"
            ],
            [
             0.1111111111111111,
             "#000012"
            ],
            [
             0.2222222222222222,
             "#000013"
            ],
            [
             0.3333333333333333,
             "#000014"
            ],
            [
             0.4444444444444444,
             "#000015"
            ],
            [
             0.5555555555555556,
             "#000016"
            ],
            [
             0.6666666666666666,
             "#000017"
            ],
            [
             0.7777777777777778,
             "#000018"
            ],
            [
             0.8888888888888888,
             "#000019"
            ],
            [
             1,
             "#000020"
            ]
           ],
           "sequentialminus": [
            [
             0,
             "#000011"
            ],
            [
             0.1111111111111111,
             "#000012"
            ],
            [
             0.2222222222222222,
             "#000013"
            ],
            [
             0.3333333333333333,
             "#000014"
            ],
            [
             0.4444444444444444,
             "#000015"
            ],
            [
             0.5555555555555556,
             "#000016"
            ],
            [
             0.6666666666666666,
             "#000017"
            ],
            [
             0.7777777777777778,
             "#000018"
            ],
            [
             0.8888888888888888,
             "#000019"
            ],
            [
             1,
             "#000020"
            ]
           ]
          },
          "colorway": [
           "#000001",
           "#000002",
           "#000003",
           "#000004",
           "#000005",
           "#000006",
           "#000007",
           "#000008",
           "#000009",
           "#000010"
          ]
         }
        },
        "xaxis": {
         "anchor": "y",
         "domain": [
          0,
          1
         ],
         "title": {
          "text": "precos"
         }
        },
        "yaxis": {
         "anchor": "x",
         "domain": [
          0,
          1
         ],
         "title": {
          "text": "produto"
         }
        }
       }
      }
     },
     "metadata": {},
     "output_type": "display_data"
    }
   ],
   "source": [
    "df['agrup1']=((df.precos>10)&(df.precos<=20))*1\n",
    "df.agrup1.value_counts()\n",
    "\n",
    "\n",
    "px.scatter(df, x='precos', y='produto', color='agrup1')"
   ]
  },
  {
   "cell_type": "code",
   "execution_count": 66,
   "metadata": {},
   "outputs": [
    {
     "name": "stdout",
     "output_type": "stream",
     "text": [
      "A média da variável precos é de 16.64\n",
      "A mediana da variável precos é de 9.99\n",
      "O desvio padrão da variável precos é de 17.47\n"
     ]
    }
   ],
   "source": [
    "df['precos'] = df['precos'].replace({'R\\\\$': '', ',': '.'}, regex=True)\n",
    "df['precos'] = pd.to_numeric(df['precos'], errors='coerce')\n",
    "df['precos'] = df['precos'].fillna(0)\n",
    "escolha_variavel = 'precos'\n",
    "media = df[escolha_variavel].mean()\n",
    "mediana = df[escolha_variavel].median()\n",
    "desvio_padrao = df[escolha_variavel].std()\n",
    "print(f'A média da variável {escolha_variavel} é de {media:.2f}')\n",
    "print(f'A mediana da variável {escolha_variavel} é de {mediana:.2f}')\n",
    "print(f'O desvio padrão da variável {escolha_variavel} é de {desvio_padrao:.2f}')"
   ]
  },
  {
   "cell_type": "code",
   "execution_count": 67,
   "metadata": {},
   "outputs": [
    {
     "data": {
      "application/vnd.plotly.v1+json": {
       "config": {
        "plotlyServerURL": "https://plot.ly"
       },
       "data": [
        {
         "alignmentgroup": "True",
         "bingroup": "x",
         "histfunc": "sum",
         "hovertemplate": "agrup1=0<br>produto=%{x}<br>sum of precos=%{y}<extra></extra>",
         "legendgroup": "0",
         "marker": {
          "color": "#000001",
          "pattern": {
           "shape": ""
          }
         },
         "name": "0",
         "offsetgroup": "0",
         "orientation": "v",
         "showlegend": true,
         "type": "histogram",
         "x": [
          "Açucar Native Orgânico Dourado 1kg",
          "Açucar Itaja 1KG Organico Demerara",
          "Açúcar Native Orgânico Claro 1kg",
          "Açucar Cristal Itaja 1kg Organico",
          "Chá Mate Poder da Terra Organico Limão 1L",
          "Chá Mate Poder da Terra Organico Pessego 1L",
          "Chá Mate Poder Da Terra Organico Tradicional 1L",
          "Açucar Native 250g Organico Sache",
          "Sorbet Orgânico Açaí Eco Fresh Pote 1,02kg",
          "Vinho Chileno Rosé Meio Seco Orgânico Reserva Adobe Valle del Rapel Garrafa 750ml",
          "Hortelã Orgânico Caisp",
          "Espinafre Orgânico Caisp 180g"
         ],
         "xaxis": "x",
         "y": [
          8.79,
          6.48,
          6.99,
          5.99,
          9.9,
          9.9,
          9.9,
          9.99,
          42.98,
          76.8,
          0,
          0
         ],
         "yaxis": "y"
        },
        {
         "alignmentgroup": "True",
         "bingroup": "x",
         "histfunc": "sum",
         "hovertemplate": "agrup1=1<br>produto=%{x}<br>sum of precos=%{y}<extra></extra>",
         "legendgroup": "1",
         "marker": {
          "color": "#000002",
          "pattern": {
           "shape": ""
          }
         },
         "name": "1",
         "offsetgroup": "1",
         "orientation": "v",
         "showlegend": true,
         "type": "histogram",
         "x": [
          "Bebida De Aveia Nude Organico S/ Gluten 1L",
          "Bebida De Aveia Nude Organico Baunilha 1L",
          "Bebida De Aveia Nude Organico Integral 1L",
          "Bebida De Aveia Nude Organico Cacau 1L",
          "Achocolatado Orgânico Em Pó Instantâneo Native 400G",
          "Cereal Corn Flakes Native Organico 300g",
          "Açucar Tia Sonia 400g Organico Demerara"
         ],
         "xaxis": "x",
         "y": [
          19.9,
          19.9,
          19.9,
          19.9,
          19.8,
          16.98,
          11.98
         ],
         "yaxis": "y"
        }
       ],
       "layout": {
        "barmode": "relative",
        "legend": {
         "title": {
          "text": "agrup1"
         },
         "tracegroupgap": 0
        },
        "margin": {
         "t": 60
        },
        "template": {
         "data": {
          "candlestick": [
           {
            "decreasing": {
             "line": {
              "color": "#000033"
             }
            },
            "increasing": {
             "line": {
              "color": "#000032"
             }
            },
            "type": "candlestick"
           }
          ],
          "contour": [
           {
            "colorscale": [
             [
              0,
              "#000011"
             ],
             [
              0.1111111111111111,
              "#000012"
             ],
             [
              0.2222222222222222,
              "#000013"
             ],
             [
              0.3333333333333333,
              "#000014"
             ],
             [
              0.4444444444444444,
              "#000015"
             ],
             [
              0.5555555555555556,
              "#000016"
             ],
             [
              0.6666666666666666,
              "#000017"
             ],
             [
              0.7777777777777778,
              "#000018"
             ],
             [
              0.8888888888888888,
              "#000019"
             ],
             [
              1,
              "#000020"
             ]
            ],
            "type": "contour"
           }
          ],
          "contourcarpet": [
           {
            "colorscale": [
             [
              0,
              "#000011"
             ],
             [
              0.1111111111111111,
              "#000012"
             ],
             [
              0.2222222222222222,
              "#000013"
             ],
             [
              0.3333333333333333,
              "#000014"
             ],
             [
              0.4444444444444444,
              "#000015"
             ],
             [
              0.5555555555555556,
              "#000016"
             ],
             [
              0.6666666666666666,
              "#000017"
             ],
             [
              0.7777777777777778,
              "#000018"
             ],
             [
              0.8888888888888888,
              "#000019"
             ],
             [
              1,
              "#000020"
             ]
            ],
            "type": "contourcarpet"
           }
          ],
          "heatmap": [
           {
            "colorscale": [
             [
              0,
              "#000011"
             ],
             [
              0.1111111111111111,
              "#000012"
             ],
             [
              0.2222222222222222,
              "#000013"
             ],
             [
              0.3333333333333333,
              "#000014"
             ],
             [
              0.4444444444444444,
              "#000015"
             ],
             [
              0.5555555555555556,
              "#000016"
             ],
             [
              0.6666666666666666,
              "#000017"
             ],
             [
              0.7777777777777778,
              "#000018"
             ],
             [
              0.8888888888888888,
              "#000019"
             ],
             [
              1,
              "#000020"
             ]
            ],
            "type": "heatmap"
           }
          ],
          "histogram2d": [
           {
            "colorscale": [
             [
              0,
              "#000011"
             ],
             [
              0.1111111111111111,
              "#000012"
             ],
             [
              0.2222222222222222,
              "#000013"
             ],
             [
              0.3333333333333333,
              "#000014"
             ],
             [
              0.4444444444444444,
              "#000015"
             ],
             [
              0.5555555555555556,
              "#000016"
             ],
             [
              0.6666666666666666,
              "#000017"
             ],
             [
              0.7777777777777778,
              "#000018"
             ],
             [
              0.8888888888888888,
              "#000019"
             ],
             [
              1,
              "#000020"
             ]
            ],
            "type": "histogram2d"
           }
          ],
          "icicle": [
           {
            "textfont": {
             "color": "white"
            },
            "type": "icicle"
           }
          ],
          "sankey": [
           {
            "textfont": {
             "color": "#000036"
            },
            "type": "sankey"
           }
          ],
          "scatter": [
           {
            "marker": {
             "line": {
              "width": 0
             }
            },
            "type": "scatter"
           }
          ],
          "table": [
           {
            "cells": {
             "fill": {
              "color": "#000038"
             },
             "font": {
              "color": "#000037"
             },
             "line": {
              "color": "#000039"
             }
            },
            "header": {
             "fill": {
              "color": "#000040"
             },
             "font": {
              "color": "#000036"
             },
             "line": {
              "color": "#000039"
             }
            },
            "type": "table"
           }
          ],
          "waterfall": [
           {
            "connector": {
             "line": {
              "color": "#000036",
              "width": 2
             }
            },
            "decreasing": {
             "marker": {
              "color": "#000033"
             }
            },
            "increasing": {
             "marker": {
              "color": "#000032"
             }
            },
            "totals": {
             "marker": {
              "color": "#000034"
             }
            },
            "type": "waterfall"
           }
          ]
         },
         "layout": {
          "coloraxis": {
           "colorscale": [
            [
             0,
             "#000011"
            ],
            [
             0.1111111111111111,
             "#000012"
            ],
            [
             0.2222222222222222,
             "#000013"
            ],
            [
             0.3333333333333333,
             "#000014"
            ],
            [
             0.4444444444444444,
             "#000015"
            ],
            [
             0.5555555555555556,
             "#000016"
            ],
            [
             0.6666666666666666,
             "#000017"
            ],
            [
             0.7777777777777778,
             "#000018"
            ],
            [
             0.8888888888888888,
             "#000019"
            ],
            [
             1,
             "#000020"
            ]
           ]
          },
          "colorscale": {
           "diverging": [
            [
             0,
             "#000021"
            ],
            [
             0.1,
             "#000022"
            ],
            [
             0.2,
             "#000023"
            ],
            [
             0.3,
             "#000024"
            ],
            [
             0.4,
             "#000025"
            ],
            [
             0.5,
             "#000026"
            ],
            [
             0.6,
             "#000027"
            ],
            [
             0.7,
             "#000028"
            ],
            [
             0.8,
             "#000029"
            ],
            [
             0.9,
             "#000030"
            ],
            [
             1,
             "#000031"
            ]
           ],
           "sequential": [
            [
             0,
             "#000011"
            ],
            [
             0.1111111111111111,
             "#000012"
            ],
            [
             0.2222222222222222,
             "#000013"
            ],
            [
             0.3333333333333333,
             "#000014"
            ],
            [
             0.4444444444444444,
             "#000015"
            ],
            [
             0.5555555555555556,
             "#000016"
            ],
            [
             0.6666666666666666,
             "#000017"
            ],
            [
             0.7777777777777778,
             "#000018"
            ],
            [
             0.8888888888888888,
             "#000019"
            ],
            [
             1,
             "#000020"
            ]
           ],
           "sequentialminus": [
            [
             0,
             "#000011"
            ],
            [
             0.1111111111111111,
             "#000012"
            ],
            [
             0.2222222222222222,
             "#000013"
            ],
            [
             0.3333333333333333,
             "#000014"
            ],
            [
             0.4444444444444444,
             "#000015"
            ],
            [
             0.5555555555555556,
             "#000016"
            ],
            [
             0.6666666666666666,
             "#000017"
            ],
            [
             0.7777777777777778,
             "#000018"
            ],
            [
             0.8888888888888888,
             "#000019"
            ],
            [
             1,
             "#000020"
            ]
           ]
          },
          "colorway": [
           "#000001",
           "#000002",
           "#000003",
           "#000004",
           "#000005",
           "#000006",
           "#000007",
           "#000008",
           "#000009",
           "#000010"
          ]
         }
        },
        "xaxis": {
         "anchor": "y",
         "domain": [
          0,
          1
         ],
         "title": {
          "text": "produto"
         }
        },
        "yaxis": {
         "anchor": "x",
         "domain": [
          0,
          1
         ],
         "title": {
          "text": "sum of precos"
         }
        }
       }
      }
     },
     "metadata": {},
     "output_type": "display_data"
    }
   ],
   "source": [
    "df['agrup1']=((df.precos>10)&(df.precos<=20))*1\n",
    "df.agrup1.value_counts()\n",
    "\n",
    "\n",
    "px.histogram(df, x='produto', y='precos', color='agrup1')"
   ]
  },
  {
   "cell_type": "code",
   "execution_count": 68,
   "metadata": {},
   "outputs": [
    {
     "name": "stdout",
     "output_type": "stream",
     "text": [
      "A média da variável precos é de 16.64\n",
      "A mediana da variável precos é de 9.99\n",
      "O desvio padrão da variável precos é de 17.47\n"
     ]
    }
   ],
   "source": [
    "df['precos'] = df['precos'].replace({'R\\\\$': '', ',': '.'}, regex=True)\n",
    "df['precos'] = pd.to_numeric(df['precos'], errors='coerce')\n",
    "df['precos'] = df['precos'].fillna(0)\n",
    "escolha_variavel = 'precos'\n",
    "media = df[escolha_variavel].mean()\n",
    "mediana = df[escolha_variavel].median()\n",
    "desvio_padrao = df[escolha_variavel].std()\n",
    "print(f'A média da variável {escolha_variavel} é de {media:.2f}')\n",
    "print(f'A mediana da variável {escolha_variavel} é de {mediana:.2f}')\n",
    "print(f'O desvio padrão da variável {escolha_variavel} é de {desvio_padrao:.2f}')"
   ]
  },
  {
   "cell_type": "code",
   "execution_count": 69,
   "metadata": {},
   "outputs": [
    {
     "name": "stderr",
     "output_type": "stream",
     "text": [
      "C:\\Users\\Matheus\\AppData\\Local\\Temp\\ipykernel_17840\\1050506302.py:4: FutureWarning:\n",
      "\n",
      "A value is trying to be set on a copy of a DataFrame or Series through chained assignment using an inplace method.\n",
      "The behavior will change in pandas 3.0. This inplace method will never work because the intermediate object on which we are setting values always behaves as a copy.\n",
      "\n",
      "For example, when doing 'df[col].method(value, inplace=True)', try using 'df.method({col: value}, inplace=True)' or df[col] = df[col].method(value) instead, to perform the operation inplace on the original object.\n",
      "\n",
      "\n",
      "\n"
     ]
    }
   ],
   "source": [
    "df['precos'] = df['precos'].astype(str).replace('R\\\\$', '', regex=True).str.replace(',', '.').astype(float)\n",
    "\n",
    "\n",
    "df['precos'].fillna(0, inplace=True)\n",
    "\n",
    "df.reset_index(drop=True, inplace=True)"
   ]
  },
  {
   "cell_type": "code",
   "execution_count": 76,
   "metadata": {},
   "outputs": [
    {
     "name": "stdout",
     "output_type": "stream",
     "text": [
      "2024-11-25 01:18:30,101 INFO sqlalchemy.engine.Engine BEGIN (implicit)\n",
      "2024-11-25 01:18:30,104 INFO sqlalchemy.engine.Engine PRAGMA main.table_info(\"dados\")\n",
      "2024-11-25 01:18:30,105 INFO sqlalchemy.engine.Engine [raw sql] ()\n",
      "2024-11-25 01:18:30,108 INFO sqlalchemy.engine.Engine PRAGMA main.table_info(\"dados\")\n",
      "2024-11-25 01:18:30,109 INFO sqlalchemy.engine.Engine [raw sql] ()\n",
      "2024-11-25 01:18:30,110 INFO sqlalchemy.engine.Engine SELECT name FROM sqlite_master WHERE type='table' AND name NOT LIKE 'sqlite~_%' ESCAPE '~' ORDER BY name\n",
      "2024-11-25 01:18:30,111 INFO sqlalchemy.engine.Engine [raw sql] ()\n",
      "2024-11-25 01:18:30,112 INFO sqlalchemy.engine.Engine SELECT name FROM sqlite_master WHERE type='view' AND name NOT LIKE 'sqlite~_%' ESCAPE '~' ORDER BY name\n",
      "2024-11-25 01:18:30,113 INFO sqlalchemy.engine.Engine [raw sql] ()\n",
      "2024-11-25 01:18:30,115 INFO sqlalchemy.engine.Engine PRAGMA main.table_xinfo(\"dados\")\n",
      "2024-11-25 01:18:30,116 INFO sqlalchemy.engine.Engine [raw sql] ()\n",
      "2024-11-25 01:18:30,117 INFO sqlalchemy.engine.Engine SELECT sql FROM  (SELECT * FROM sqlite_master UNION ALL   SELECT * FROM sqlite_temp_master) WHERE name = ? AND type in ('table', 'view')\n",
      "2024-11-25 01:18:30,118 INFO sqlalchemy.engine.Engine [raw sql] ('dados',)\n",
      "2024-11-25 01:18:30,120 INFO sqlalchemy.engine.Engine PRAGMA main.foreign_key_list(\"dados\")\n",
      "2024-11-25 01:18:30,122 INFO sqlalchemy.engine.Engine [raw sql] ()\n",
      "2024-11-25 01:18:30,124 INFO sqlalchemy.engine.Engine PRAGMA temp.foreign_key_list(\"dados\")\n",
      "2024-11-25 01:18:30,125 INFO sqlalchemy.engine.Engine [raw sql] ()\n",
      "2024-11-25 01:18:30,126 INFO sqlalchemy.engine.Engine SELECT sql FROM  (SELECT * FROM sqlite_master UNION ALL   SELECT * FROM sqlite_temp_master) WHERE name = ? AND type in ('table', 'view')\n",
      "2024-11-25 01:18:30,127 INFO sqlalchemy.engine.Engine [raw sql] ('dados',)\n",
      "2024-11-25 01:18:30,128 INFO sqlalchemy.engine.Engine PRAGMA main.index_list(\"dados\")\n",
      "2024-11-25 01:18:30,129 INFO sqlalchemy.engine.Engine [raw sql] ()\n",
      "2024-11-25 01:18:30,131 INFO sqlalchemy.engine.Engine PRAGMA temp.index_list(\"dados\")\n",
      "2024-11-25 01:18:30,133 INFO sqlalchemy.engine.Engine [raw sql] ()\n",
      "2024-11-25 01:18:30,134 INFO sqlalchemy.engine.Engine PRAGMA main.table_info(\"dados\")\n",
      "2024-11-25 01:18:30,135 INFO sqlalchemy.engine.Engine [raw sql] ()\n",
      "2024-11-25 01:18:30,137 INFO sqlalchemy.engine.Engine PRAGMA main.index_list(\"dados\")\n",
      "2024-11-25 01:18:30,138 INFO sqlalchemy.engine.Engine [raw sql] ()\n",
      "2024-11-25 01:18:30,140 INFO sqlalchemy.engine.Engine PRAGMA temp.index_list(\"dados\")\n",
      "2024-11-25 01:18:30,141 INFO sqlalchemy.engine.Engine [raw sql] ()\n",
      "2024-11-25 01:18:30,142 INFO sqlalchemy.engine.Engine PRAGMA main.table_info(\"dados\")\n",
      "2024-11-25 01:18:30,143 INFO sqlalchemy.engine.Engine [raw sql] ()\n",
      "2024-11-25 01:18:30,145 INFO sqlalchemy.engine.Engine SELECT sql FROM  (SELECT * FROM sqlite_master UNION ALL   SELECT * FROM sqlite_temp_master) WHERE name = ? AND type in ('table', 'view')\n",
      "2024-11-25 01:18:30,145 INFO sqlalchemy.engine.Engine [raw sql] ('dados',)\n",
      "2024-11-25 01:18:30,147 INFO sqlalchemy.engine.Engine \n",
      "DROP TABLE dados\n",
      "2024-11-25 01:18:30,148 INFO sqlalchemy.engine.Engine [no key 0.00094s] ()\n",
      "2024-11-25 01:18:30,169 INFO sqlalchemy.engine.Engine \n",
      "CREATE TABLE dados (\n",
      "\tproduto TEXT, \n",
      "\tprecos FLOAT, \n",
      "\tagrup1 BIGINT\n",
      ")\n",
      "\n",
      "\n",
      "2024-11-25 01:18:30,170 INFO sqlalchemy.engine.Engine [no key 0.00109s] ()\n",
      "2024-11-25 01:18:30,184 INFO sqlalchemy.engine.Engine INSERT INTO dados (produto, precos, agrup1) VALUES (?, ?, ?)\n",
      "2024-11-25 01:18:30,185 INFO sqlalchemy.engine.Engine [generated in 0.00110s] [('Açucar Native Orgânico Dourado 1kg', 8.79, 0), ('Açucar Itaja 1KG Organico Demerara', 6.48, 0), ('Açúcar Native Orgânico Claro 1kg', 6.99, 0), ('Açucar Cristal Itaja 1kg Organico', 5.99, 0), ('Bebida De Aveia Nude Organico S/ Gluten 1L', 19.9, 1), ('Bebida De Aveia Nude Organico Baunilha 1L', 19.9, 1), ('Bebida De Aveia Nude Organico Integral 1L', 19.9, 1), ('Bebida De Aveia Nude Organico Cacau 1L', 19.9, 1)  ... displaying 10 of 19 total bound parameter sets ...  ('Hortelã Orgânico Caisp', 0.0, 0), ('Espinafre Orgânico Caisp 180g', 0.0, 0)]\n",
      "2024-11-25 01:18:30,188 INFO sqlalchemy.engine.Engine COMMIT\n",
      "2024-11-25 01:18:30,200 INFO sqlalchemy.engine.Engine BEGIN (implicit)\n",
      "2024-11-25 01:18:30,201 INFO sqlalchemy.engine.Engine PRAGMA main.table_info(\"SELECT * FROM dados\")\n",
      "2024-11-25 01:18:30,201 INFO sqlalchemy.engine.Engine [raw sql] ()\n",
      "2024-11-25 01:18:30,202 INFO sqlalchemy.engine.Engine PRAGMA temp.table_info(\"SELECT * FROM dados\")\n",
      "2024-11-25 01:18:30,203 INFO sqlalchemy.engine.Engine [raw sql] ()\n",
      "2024-11-25 01:18:30,205 INFO sqlalchemy.engine.Engine SELECT * FROM dados\n",
      "2024-11-25 01:18:30,205 INFO sqlalchemy.engine.Engine [raw sql] ()\n",
      "2024-11-25 01:18:30,209 INFO sqlalchemy.engine.Engine ROLLBACK\n",
      "                                              produto  precos  agrup1\n",
      "0                  Açucar Native Orgânico Dourado 1kg    8.79       0\n",
      "1                  Açucar Itaja 1KG Organico Demerara    6.48       0\n",
      "2                    Açúcar Native Orgânico Claro 1kg    6.99       0\n",
      "3                   Açucar Cristal Itaja 1kg Organico    5.99       0\n",
      "4          Bebida De Aveia Nude Organico S/ Gluten 1L   19.90       1\n",
      "5           Bebida De Aveia Nude Organico Baunilha 1L   19.90       1\n",
      "6           Bebida De Aveia Nude Organico Integral 1L   19.90       1\n",
      "7              Bebida De Aveia Nude Organico Cacau 1L   19.90       1\n",
      "8   Achocolatado Orgânico Em Pó Instantâneo Native...   19.80       1\n",
      "9           Chá Mate Poder da Terra Organico Limão 1L    9.90       0\n",
      "10        Chá Mate Poder da Terra Organico Pessego 1L    9.90       0\n",
      "11            Cereal Corn Flakes Native Organico 300g   16.98       1\n",
      "12            Açucar Tia Sonia 400g Organico Demerara   11.98       1\n",
      "13    Chá Mate Poder Da Terra Organico Tradicional 1L    9.90       0\n",
      "14                  Açucar Native 250g Organico Sache    9.99       0\n",
      "15         Sorbet Orgânico Açaí Eco Fresh Pote 1,02kg   42.98       0\n",
      "16  Vinho Chileno Rosé Meio Seco Orgânico Reserva ...   76.80       0\n",
      "17                             Hortelã Orgânico Caisp    0.00       0\n",
      "18                      Espinafre Orgânico Caisp 180g    0.00       0\n"
     ]
    }
   ],
   "source": [
    "from sqlalchemy import create_engine \n",
    "engine = create_engine('sqlite:///banco.db', echo=True)\n",
    "\n",
    "df.to_sql('dados', con=engine, if_exists='replace', index=False)  \n",
    "\n",
    "df_lido = pd.read_sql('SELECT * FROM dados', con=engine)\n",
    "\n",
    "print(df_lido)"
   ]
  },
  {
   "cell_type": "code",
   "execution_count": 71,
   "metadata": {},
   "outputs": [
    {
     "name": "stdout",
     "output_type": "stream",
     "text": [
      "Dados originais:\n",
      "     precos\n",
      "0     6.25\n",
      "1     6.48\n",
      "2     8.29\n",
      "3     5.99\n",
      "4    19.90\n",
      "5    19.90\n",
      "6    19.90\n",
      "7    19.90\n",
      "8     9.90\n",
      "9     9.90\n",
      "10   19.80\n",
      "11   16.98\n",
      "12   11.98\n",
      "13    9.99\n",
      "14   42.98\n",
      "15    9.90\n",
      "16   76.80\n",
      "17    0.00\n",
      "18    0.00\n",
      "\n",
      "Dados sem outliers:\n",
      "     precos\n",
      "0     6.25\n",
      "1     6.48\n",
      "2     8.29\n",
      "3     5.99\n",
      "4    19.90\n",
      "5    19.90\n",
      "6    19.90\n",
      "7    19.90\n",
      "8     9.90\n",
      "9     9.90\n",
      "10   19.80\n",
      "11   16.98\n",
      "12   11.98\n",
      "13    9.99\n",
      "15    9.90\n",
      "17    0.00\n",
      "18    0.00\n"
     ]
    },
    {
     "name": "stderr",
     "output_type": "stream",
     "text": [
      "C:\\Users\\Matheus\\AppData\\Local\\Temp\\ipykernel_17840\\3431982163.py:9: FutureWarning:\n",
      "\n",
      "A value is trying to be set on a copy of a DataFrame or Series through chained assignment using an inplace method.\n",
      "The behavior will change in pandas 3.0. This inplace method will never work because the intermediate object on which we are setting values always behaves as a copy.\n",
      "\n",
      "For example, when doing 'df[col].method(value, inplace=True)', try using 'df.method({col: value}, inplace=True)' or df[col] = df[col].method(value) instead, to perform the operation inplace on the original object.\n",
      "\n",
      "\n",
      "\n"
     ]
    }
   ],
   "source": [
    "data = {'precos': [\n",
    "        'R$ 6,25', 'R$ 6,48', 'R$ 8,29', 'R$ 5,99', 'R$ 19,90', 'R$ 19,90',\n",
    "        'R$ 19,90', 'R$ 19,90', 'R$ 9,90', 'R$ 9,90', 'R$ 19,80', 'R$ 16,98',\n",
    "        'R$ 11,98', 'R$ 9,99', 'R$ 42,98', 'R$ 9,90', 'R$ 76,80', None, None]}\n",
    "df1 = pd.DataFrame(data)\n",
    "\n",
    "df1['precos'] = df1['precos'].str.replace('R$', '', regex=False).str.replace(',', '.').astype(float)\n",
    "\n",
    "df1['precos'].fillna(0, inplace=True) \n",
    "\n",
    "q1 = df1['precos'].quantile(0.25)\n",
    "q3 = df1['precos'].quantile(0.75)\n",
    "iqr = q3 - q1\n",
    "\n",
    "limite_inferior = q1 - 1.5 * iqr\n",
    "limite_superior = q3 + 1.5 * iqr\n",
    "\n",
    "df_sem_outliers = df1[(df1['precos'] >= limite_inferior) & (df1['precos'] <= limite_superior)]\n",
    "\n",
    "print(\"Dados originais:\\n\", df1)\n",
    "print(\"\\nDados sem outliers:\\n\", df_sem_outliers)"
   ]
  },
  {
   "cell_type": "code",
   "execution_count": 72,
   "metadata": {},
   "outputs": [],
   "source": [
    "from flask import Flask, jsonify"
   ]
  },
  {
   "cell_type": "code",
   "execution_count": 73,
   "metadata": {},
   "outputs": [],
   "source": [
    "app = Flask(__name__)"
   ]
  }
 ],
 "metadata": {
  "kernelspec": {
   "display_name": "Python 3",
   "language": "python",
   "name": "python3"
  },
  "language_info": {
   "codemirror_mode": {
    "name": "ipython",
    "version": 3
   },
   "file_extension": ".py",
   "mimetype": "text/x-python",
   "name": "python",
   "nbconvert_exporter": "python",
   "pygments_lexer": "ipython3",
   "version": "3.12.7"
  }
 },
 "nbformat": 4,
 "nbformat_minor": 2
}
